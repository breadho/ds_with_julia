{
 "cells": [
  {
   "cell_type": "markdown",
   "metadata": {},
   "source": [
    "# 줄리아 연습 1\n",
    "\n",
    "## 학습자료: 줄리아 아카데미 강의자료 (https://github.com/JuliaAcademy/DataScience)\n",
    "- Julia for Data Science - Video 1: Data, by Dr. Huda Nassar (for JuliaAcademy.com)\n",
    "- youtube "
   ]
  },
  {
   "cell_type": "markdown",
   "metadata": {},
   "source": [
    "## 1. 환경 확인"
   ]
  },
  {
   "cell_type": "code",
   "execution_count": 93,
   "metadata": {},
   "outputs": [
    {
     "data": {
      "text/plain": [
       "\"C:\\\\Users\\\\user\""
      ]
     },
     "execution_count": 93,
     "metadata": {},
     "output_type": "execute_result"
    }
   ],
   "source": [
    "pwd()"
   ]
  },
  {
   "cell_type": "markdown",
   "metadata": {},
   "source": [
    "### Package 사용 \n",
    "\n",
    "- 패키지 로딩 명령어 : using 또는 import (R의 library, Python의 import에 해당)"
   ]
  },
  {
   "cell_type": "markdown",
   "metadata": {},
   "source": [
    "#### import와 loading의 차이점\n",
    "- Package loading: e.g. import X or using X. The import mechanism allows you to load a package—i.e. an independent, reusable collection of Julia code, wrapped in a module—and makes the resulting module available by the name X inside of the importing module. If the same X package is imported multiple times in the same Julia session, it is only loaded the first time—on subsequent imports, the importing module gets a reference to the same module. Note though, that import X can load different packages in different contexts: X can refer to one package named X in the main project but potentially to different packages also named X in each dependency. More on this below.\n",
    "- https://docs.julialang.org/en/v1/manual/code-loading/"
   ]
  },
  {
   "cell_type": "code",
   "execution_count": 2,
   "metadata": {},
   "outputs": [],
   "source": [
    "using Pkg"
   ]
  },
  {
   "cell_type": "code",
   "execution_count": 3,
   "metadata": {},
   "outputs": [
    {
     "name": "stderr",
     "output_type": "stream",
     "text": [
      "┌ Info: Recompiling stale cache file C:\\Users\\user\\.julia\\compiled\\v1.0\\BenchmarkTools\\ZXPQo.ji for BenchmarkTools [6e4b80f9-dd63-53aa-95a3-0cdb28fa8baf]\n",
      "└ @ Base loading.jl:1190\n",
      "┌ Info: Recompiling stale cache file C:\\Users\\user\\.julia\\compiled\\v1.0\\DataFrames\\AR9oZ.ji for DataFrames [a93c6f00-e57d-5684-b7b6-d8193f3e46c0]\n",
      "└ @ Base loading.jl:1190\n",
      "┌ Info: Recompiling stale cache file C:\\Users\\user\\.julia\\compiled\\v1.0\\CSV\\HHBkp.ji for CSV [336ed68f-0bac-5ca0-87d4-7b16caf5d00b]\n",
      "└ @ Base loading.jl:1190\n"
     ]
    }
   ],
   "source": [
    "using BenchmarkTools\n",
    "using DataFrames\n",
    "using DelimitedFiles\n",
    "using CSV\n",
    "using XLSX"
   ]
  },
  {
   "cell_type": "code",
   "execution_count": 4,
   "metadata": {},
   "outputs": [
    {
     "data": {
      "text/plain": [
       "\"programminglanguages.csv\""
      ]
     },
     "execution_count": 4,
     "metadata": {},
     "output_type": "execute_result"
    }
   ],
   "source": [
    "P = download(\"https://raw.githubusercontent.com/nassarhuda/easy_data/master/programming_languages.csv\",\n",
    "    \"programminglanguages.csv\")"
   ]
  },
  {
   "cell_type": "code",
   "execution_count": 5,
   "metadata": {},
   "outputs": [
    {
     "data": {
      "text/plain": [
       "\"C:\\\\Users\\\\user\""
      ]
     },
     "execution_count": 5,
     "metadata": {},
     "output_type": "execute_result"
    }
   ],
   "source": [
    "pwd()"
   ]
  },
  {
   "cell_type": "code",
   "execution_count": 6,
   "metadata": {},
   "outputs": [
    {
     "data": {
      "text/plain": [
       "49-element Array{String,1}:\n",
       " \".conda\"                       \n",
       " \".condarc\"                     \n",
       " \".ipynb_checkpoints\"           \n",
       " \".ipython\"                     \n",
       " \".julia\"                       \n",
       " \".jupyter\"                     \n",
       " \".matplotlib\"                  \n",
       " \"3D Objects\"                   \n",
       " \"anaconda3\"                    \n",
       " \"AppData\"                      \n",
       " \"Application Data\"             \n",
       " \"Contacts\"                     \n",
       " \"Cookies\"                      \n",
       " ⋮                              \n",
       " \"promgramminglanguages_CSV.CSV\"\n",
       " \"Recent\"                       \n",
       " \"RL\"                           \n",
       " \"Saved Games\"                  \n",
       " \"Searches\"                     \n",
       " \"SendTo\"                       \n",
       " \"Templates\"                    \n",
       " \"test_df.xlsx\"                 \n",
       " \"Untitled.ipynb\"               \n",
       " \"Videos\"                       \n",
       " \"writefile_using_XLSX.xlsx\"    \n",
       " \"시작 메뉴\"                        "
      ]
     },
     "execution_count": 6,
     "metadata": {},
     "output_type": "execute_result"
    }
   ],
   "source": [
    "readdir()"
   ]
  },
  {
   "cell_type": "code",
   "execution_count": 7,
   "metadata": {},
   "outputs": [],
   "source": [
    "C = CSV.read(\"programminglanguages.csv\", DataFrame);\n",
    "\n",
    "# CSV.read에서 파일 경로와 불러들일 데이터 타입을 함께 지정해야 함"
   ]
  },
  {
   "cell_type": "code",
   "execution_count": 8,
   "metadata": {},
   "outputs": [
    {
     "name": "stdout",
     "output_type": "stream",
     "text": [
      "typeof(C) = DataFrame\n"
     ]
    },
    {
     "data": {
      "text/plain": [
       "DataFrame"
      ]
     },
     "execution_count": 8,
     "metadata": {},
     "output_type": "execute_result"
    }
   ],
   "source": [
    "# 불러들인 데이터의 타입 확인\n",
    "@show typeof(C)"
   ]
  },
  {
   "cell_type": "code",
   "execution_count": 9,
   "metadata": {},
   "outputs": [
    {
     "data": {
      "text/plain": [
       "DataFrame"
      ]
     },
     "execution_count": 9,
     "metadata": {},
     "output_type": "execute_result"
    }
   ],
   "source": [
    "typeof(C)"
   ]
  },
  {
   "cell_type": "code",
   "execution_count": 10,
   "metadata": {},
   "outputs": [
    {
     "data": {
      "text/html": [
       "<table class=\"data-frame\"><thead><tr><th></th><th>year</th><th>language</th></tr><tr><th></th><th>Int64</th><th>String</th></tr></thead><tbody><p>10 rows × 2 columns</p><tr><th>1</th><td>1951</td><td>Regional Assembly Language</td></tr><tr><th>2</th><td>1952</td><td>Autocode</td></tr><tr><th>3</th><td>1954</td><td>IPL</td></tr><tr><th>4</th><td>1955</td><td>FLOW-MATIC</td></tr><tr><th>5</th><td>1957</td><td>FORTRAN</td></tr><tr><th>6</th><td>1957</td><td>COMTRAN</td></tr><tr><th>7</th><td>1958</td><td>LISP</td></tr><tr><th>8</th><td>1958</td><td>ALGOL 58</td></tr><tr><th>9</th><td>1959</td><td>FACT</td></tr><tr><th>10</th><td>1959</td><td>COBOL</td></tr></tbody></table>"
      ],
      "text/latex": [
       "\\begin{tabular}{r|cc}\n",
       "\t& year & language\\\\\n",
       "\t\\hline\n",
       "\t& Int64 & String\\\\\n",
       "\t\\hline\n",
       "\t1 & 1951 & Regional Assembly Language \\\\\n",
       "\t2 & 1952 & Autocode \\\\\n",
       "\t3 & 1954 & IPL \\\\\n",
       "\t4 & 1955 & FLOW-MATIC \\\\\n",
       "\t5 & 1957 & FORTRAN \\\\\n",
       "\t6 & 1957 & COMTRAN \\\\\n",
       "\t7 & 1958 & LISP \\\\\n",
       "\t8 & 1958 & ALGOL 58 \\\\\n",
       "\t9 & 1959 & FACT \\\\\n",
       "\t10 & 1959 & COBOL \\\\\n",
       "\\end{tabular}\n"
      ],
      "text/plain": [
       "\u001b[1m10×2 DataFrame\u001b[0m\n",
       "\u001b[1m Row \u001b[0m│\u001b[1m year  \u001b[0m\u001b[1m language                   \u001b[0m\n",
       "\u001b[1m     \u001b[0m│\u001b[90m Int64 \u001b[0m\u001b[90m String                     \u001b[0m\n",
       "─────┼───────────────────────────────────\n",
       "   1 │  1951  Regional Assembly Language\n",
       "   2 │  1952  Autocode\n",
       "   3 │  1954  IPL\n",
       "   4 │  1955  FLOW-MATIC\n",
       "   5 │  1957  FORTRAN\n",
       "   6 │  1957  COMTRAN\n",
       "   7 │  1958  LISP\n",
       "   8 │  1958  ALGOL 58\n",
       "   9 │  1959  FACT\n",
       "  10 │  1959  COBOL"
      ]
     },
     "execution_count": 10,
     "metadata": {},
     "output_type": "execute_result"
    }
   ],
   "source": [
    "# 데이터 스플릿\n",
    "C[1:10, :]"
   ]
  },
  {
   "cell_type": "code",
   "execution_count": 11,
   "metadata": {},
   "outputs": [],
   "source": [
    "P,H = readdlm(\"programminglanguages.csv\",',';header=true);"
   ]
  },
  {
   "cell_type": "code",
   "execution_count": 12,
   "metadata": {},
   "outputs": [
    {
     "data": {
      "text/plain": [
       "Array{Any,2}"
      ]
     },
     "execution_count": 12,
     "metadata": {},
     "output_type": "execute_result"
    }
   ],
   "source": [
    "typeof(P)"
   ]
  },
  {
   "cell_type": "code",
   "execution_count": 13,
   "metadata": {},
   "outputs": [
    {
     "data": {
      "text/plain": [
       "5×2 Array{Any,2}:\n",
       " 1951  \"Regional Assembly Language\"\n",
       " 1952  \"Autocode\"                  \n",
       " 1954  \"IPL\"                       \n",
       " 1955  \"FLOW-MATIC\"                \n",
       " 1957  \"FORTRAN\"                   "
      ]
     },
     "execution_count": 13,
     "metadata": {},
     "output_type": "execute_result"
    }
   ],
   "source": [
    "P[1:5, :]"
   ]
  },
  {
   "cell_type": "code",
   "execution_count": 14,
   "metadata": {},
   "outputs": [
    {
     "data": {
      "text/plain": [
       "1×2 Array{AbstractString,2}:\n",
       " \"year\"  \"language\""
      ]
     },
     "execution_count": 14,
     "metadata": {},
     "output_type": "execute_result"
    }
   ],
   "source": [
    "H"
   ]
  },
  {
   "cell_type": "code",
   "execution_count": 15,
   "metadata": {},
   "outputs": [
    {
     "data": {
      "text/plain": [
       "2-element Array{String,1}:\n",
       " \"year\"    \n",
       " \"language\""
      ]
     },
     "execution_count": 15,
     "metadata": {},
     "output_type": "execute_result"
    }
   ],
   "source": [
    "names(C)"
   ]
  },
  {
   "cell_type": "code",
   "execution_count": 16,
   "metadata": {},
   "outputs": [
    {
     "data": {
      "text/plain": [
       "6-element Array{Int64,1}:\n",
       " 1951\n",
       " 1952\n",
       " 1954\n",
       " 1955\n",
       " 1957\n",
       " 1957"
      ]
     },
     "execution_count": 16,
     "metadata": {},
     "output_type": "execute_result"
    }
   ],
   "source": [
    "C.year[1:6]"
   ]
  },
  {
   "cell_type": "code",
   "execution_count": 17,
   "metadata": {},
   "outputs": [
    {
     "data": {
      "text/plain": [
       "6-element Array{String,1}:\n",
       " \"Regional Assembly Language\"\n",
       " \"Autocode\"                  \n",
       " \"IPL\"                       \n",
       " \"FLOW-MATIC\"                \n",
       " \"FORTRAN\"                   \n",
       " \"COMTRAN\"                   "
      ]
     },
     "execution_count": 17,
     "metadata": {},
     "output_type": "execute_result"
    }
   ],
   "source": [
    "C.language[1:6]"
   ]
  },
  {
   "cell_type": "code",
   "execution_count": 18,
   "metadata": {},
   "outputs": [
    {
     "data": {
      "text/html": [
       "<table class=\"data-frame\"><thead><tr><th></th><th>variable</th><th>mean</th><th>min</th><th>median</th><th>max</th><th>nmissing</th><th>eltype</th></tr><tr><th></th><th>Symbol</th><th>Union…</th><th>Any</th><th>Union…</th><th>Any</th><th>Int64</th><th>DataType</th></tr></thead><tbody><p>2 rows × 7 columns</p><tr><th>1</th><td>year</td><td>1982.99</td><td>1951</td><td>1986.0</td><td>2014</td><td>0</td><td>Int64</td></tr><tr><th>2</th><td>language</td><td></td><td>ALGOL 58</td><td></td><td>dBase III</td><td>0</td><td>String</td></tr></tbody></table>"
      ],
      "text/latex": [
       "\\begin{tabular}{r|ccccccc}\n",
       "\t& variable & mean & min & median & max & nmissing & eltype\\\\\n",
       "\t\\hline\n",
       "\t& Symbol & Union… & Any & Union… & Any & Int64 & DataType\\\\\n",
       "\t\\hline\n",
       "\t1 & year & 1982.99 & 1951 & 1986.0 & 2014 & 0 & Int64 \\\\\n",
       "\t2 & language &  & ALGOL 58 &  & dBase III & 0 & String \\\\\n",
       "\\end{tabular}\n"
      ],
      "text/plain": [
       "\u001b[1m2×7 DataFrame\u001b[0m\n",
       "\u001b[1m Row \u001b[0m│\u001b[1m variable \u001b[0m\u001b[1m mean    \u001b[0m\u001b[1m min      \u001b[0m\u001b[1m median \u001b[0m\u001b[1m max       \u001b[0m\u001b[1m nmissing \u001b[0m\u001b[1m eltype   \u001b[0m\n",
       "\u001b[1m     \u001b[0m│\u001b[90m Symbol   \u001b[0m\u001b[90m Union…  \u001b[0m\u001b[90m Any      \u001b[0m\u001b[90m Union… \u001b[0m\u001b[90m Any       \u001b[0m\u001b[90m Int64    \u001b[0m\u001b[90m DataType \u001b[0m\n",
       "─────┼────────────────────────────────────────────────────────────────────\n",
       "   1 │ year      1982.99  1951      1986.0  2014              0  Int64\n",
       "   2 │ language \u001b[90m         \u001b[0m ALGOL 58 \u001b[90m        \u001b[0m dBase III         0  String"
      ]
     },
     "execution_count": 18,
     "metadata": {},
     "output_type": "execute_result"
    }
   ],
   "source": [
    "# 기초 통계량 산출\n",
    "describe(C)"
   ]
  },
  {
   "cell_type": "markdown",
   "metadata": {},
   "source": [
    "### 속도 비교"
   ]
  },
  {
   "cell_type": "code",
   "execution_count": 19,
   "metadata": {},
   "outputs": [
    {
     "name": "stdout",
     "output_type": "stream",
     "text": [
      "  124.299 μs (313 allocations: 50.73 KiB)\n",
      "  141.000 μs (236 allocations: 22.53 KiB)\n"
     ]
    }
   ],
   "source": [
    "@btime P,H = readdlm(\"programminglanguages.csv\",',';header=true);\n",
    "@btime C = CSV.read(\"programminglanguages.csv\", DataFrame);"
   ]
  },
  {
   "cell_type": "markdown",
   "metadata": {},
   "source": [
    "### CSV로 내보내기"
   ]
  },
  {
   "cell_type": "code",
   "execution_count": 20,
   "metadata": {},
   "outputs": [
    {
     "data": {
      "text/plain": [
       "\"promgramminglanguages_CSV.CSV\""
      ]
     },
     "execution_count": 20,
     "metadata": {},
     "output_type": "execute_result"
    }
   ],
   "source": [
    "CSV.write(\"promgramminglanguages_CSV.CSV\", DataFrame(P, :auto))"
   ]
  },
  {
   "cell_type": "markdown",
   "metadata": {},
   "source": [
    "### XLSX 읽어들이기"
   ]
  },
  {
   "cell_type": "code",
   "execution_count": 21,
   "metadata": {},
   "outputs": [
    {
     "data": {
      "text/plain": [
       "9×6 Array{Any,2}:\n",
       "      \"RegionID\"  \"RegionName\"    …      \"2008-03\"      \"2008-04\"\n",
       "  6181            \"New York\"             missing        missing  \n",
       " 12447            \"Los Angeles\"      1446           1705         \n",
       " 39051            \"Houston\"          2926           3121         \n",
       " 17426            \"Chicago\"          2910           3022         \n",
       "  6915            \"San Antonio\"   …  1479           1529         \n",
       " 13271            \"Philadelphia\"     1609           1795         \n",
       " 40326            \"Phoenix\"          1310           1519         \n",
       " 18959            \"Las Vegas\"        1618           1856         "
      ]
     },
     "execution_count": 21,
     "metadata": {},
     "output_type": "execute_result"
    }
   ],
   "source": [
    "T = XLSX.readdata(\"C:/Users/user/DataScience-main/data/zillow_data_download_april2020.xlsx\", #file name\n",
    "    \"Sale_counts_city\", #sheet name\n",
    "    \"A1:F9\" #cell range\n",
    "    )"
   ]
  },
  {
   "cell_type": "code",
   "execution_count": 22,
   "metadata": {},
   "outputs": [
    {
     "data": {
      "text/plain": [
       "9×6 Array{Any,2}:\n",
       "      \"RegionID\"  \"RegionName\"    …      \"2008-03\"      \"2008-04\"\n",
       "  6181            \"New York\"             missing        missing  \n",
       " 12447            \"Los Angeles\"      1446           1705         \n",
       " 39051            \"Houston\"          2926           3121         \n",
       " 17426            \"Chicago\"          2910           3022         \n",
       "  6915            \"San Antonio\"   …  1479           1529         \n",
       " 13271            \"Philadelphia\"     1609           1795         \n",
       " 40326            \"Phoenix\"          1310           1519         \n",
       " 18959            \"Las Vegas\"        1618           1856         "
      ]
     },
     "execution_count": 22,
     "metadata": {},
     "output_type": "execute_result"
    }
   ],
   "source": [
    "T\n",
    "# matrix 형태로 불러들임"
   ]
  },
  {
   "cell_type": "markdown",
   "metadata": {},
   "source": [
    "### DataFrame (줄리아에서 데이터 프레임) "
   ]
  },
  {
   "cell_type": "code",
   "execution_count": 23,
   "metadata": {},
   "outputs": [
    {
     "name": "stdout",
     "output_type": "stream",
     "text": [
      "search: \u001b[0m\u001b[1mD\u001b[22m\u001b[0m\u001b[1ma\u001b[22m\u001b[0m\u001b[1mt\u001b[22m\u001b[0m\u001b[1ma\u001b[22m\u001b[0m\u001b[1mF\u001b[22m\u001b[0m\u001b[1mr\u001b[22m\u001b[0m\u001b[1ma\u001b[22m\u001b[0m\u001b[1mm\u001b[22m\u001b[0m\u001b[1me\u001b[22m \u001b[0m\u001b[1mD\u001b[22m\u001b[0m\u001b[1ma\u001b[22m\u001b[0m\u001b[1mt\u001b[22m\u001b[0m\u001b[1ma\u001b[22m\u001b[0m\u001b[1mF\u001b[22m\u001b[0m\u001b[1mr\u001b[22m\u001b[0m\u001b[1ma\u001b[22m\u001b[0m\u001b[1mm\u001b[22m\u001b[0m\u001b[1me\u001b[22m! \u001b[0m\u001b[1mD\u001b[22m\u001b[0m\u001b[1ma\u001b[22m\u001b[0m\u001b[1mt\u001b[22m\u001b[0m\u001b[1ma\u001b[22m\u001b[0m\u001b[1mF\u001b[22m\u001b[0m\u001b[1mr\u001b[22m\u001b[0m\u001b[1ma\u001b[22m\u001b[0m\u001b[1mm\u001b[22m\u001b[0m\u001b[1me\u001b[22ms \u001b[0m\u001b[1mD\u001b[22m\u001b[0m\u001b[1ma\u001b[22m\u001b[0m\u001b[1mt\u001b[22m\u001b[0m\u001b[1ma\u001b[22m\u001b[0m\u001b[1mF\u001b[22m\u001b[0m\u001b[1mr\u001b[22m\u001b[0m\u001b[1ma\u001b[22m\u001b[0m\u001b[1mm\u001b[22m\u001b[0m\u001b[1me\u001b[22mRow Sub\u001b[0m\u001b[1mD\u001b[22m\u001b[0m\u001b[1ma\u001b[22m\u001b[0m\u001b[1mt\u001b[22m\u001b[0m\u001b[1ma\u001b[22m\u001b[0m\u001b[1mF\u001b[22m\u001b[0m\u001b[1mr\u001b[22m\u001b[0m\u001b[1ma\u001b[22m\u001b[0m\u001b[1mm\u001b[22m\u001b[0m\u001b[1me\u001b[22m\n",
      "\n"
     ]
    },
    {
     "data": {
      "text/latex": [
       "\\begin{verbatim}\n",
       "DataFrame <: AbstractDataFrame\n",
       "\\end{verbatim}\n",
       "An AbstractDataFrame that stores a set of named columns\n",
       "\n",
       "The columns are normally AbstractVectors stored in memory, particularly a Vector or CategoricalVector.\n",
       "\n",
       "\\section{Constructors}\n",
       "\\begin{verbatim}\n",
       "DataFrame(pairs::Pair...; makeunique::Bool=false, copycols::Bool=true)\n",
       "DataFrame(pairs::AbstractVector{<:Pair}; makeunique::Bool=false, copycols::Bool=true)\n",
       "DataFrame(ds::AbstractDict; copycols::Bool=true)\n",
       "DataFrame(kwargs..., copycols::Bool=true)\n",
       "\n",
       "DataFrame(columns::AbstractVecOrMat, names::Union{AbstractVector, Symbol};\n",
       "          makeunique::Bool=false, copycols::Bool=true)\n",
       "\n",
       "DataFrame(table; copycols::Bool=true)\n",
       "DataFrame(::DataFrameRow)\n",
       "DataFrame(::GroupedDataFrame; keepkeys::Bool=true)\n",
       "\\end{verbatim}\n",
       "\\section{Keyword arguments}\n",
       "\\begin{itemize}\n",
       "\\item \\texttt{copycols} : whether vectors passed as columns should be copied; by default set to \\texttt{true} and the vectors are copied; if set to \\texttt{false} then the constructor will still copy the passed columns if it is not possible to construct a \\texttt{DataFrame} without materializing new columns.\n",
       "\n",
       "\n",
       "\\item \\texttt{makeunique} : if \\texttt{false} (the default), an error will be raised\n",
       "\n",
       "\\end{itemize}\n",
       "(note that not all constructors support these keyword arguments)\n",
       "\n",
       "\\section{Details on behavior of different constructors}\n",
       "It is allowed to pass a vector of \\texttt{Pair}s, a list of \\texttt{Pair}s as positional arguments, or a list of keyword arguments. In this case each pair is considered to represent a column name to column value mapping and column name must be a \\texttt{Symbol} or string. Alternatively a dictionary can be passed to the constructor in which case its entries are considered to define the column name and column value pairs. If the dictionary is a \\texttt{Dict} then column names will be sorted in the returned \\texttt{DataFrame}.\n",
       "\n",
       "In all the constructors described above column value can be a vector which is consumed as is or an object of any other type (except \\texttt{AbstractArray}). In the latter case the passed value is automatically repeated to fill a new vector of the appropriate length. As a particular rule values stored in a \\texttt{Ref} or a \\texttt{0}-dimensional \\texttt{AbstractArray} are unwrapped and treated in the same way.\n",
       "\n",
       "It is also allowed to pass a vector of vectors or a matrix as as the first argument. In this case the second argument must be a vector of \\texttt{Symbol}s or strings specifying column names, or the symbol \\texttt{:auto} to generate column names \\texttt{x1}, \\texttt{x2}, ... automatically.\n",
       "\n",
       "If a single positional argument is passed to a \\texttt{DataFrame} constructor then it is assumed to be of type that implements the \\href{https://github.com/JuliaData/Tables.jl}{Tables.jl} interface using which the returned \\texttt{DataFrame} is materialized.\n",
       "\n",
       "Finally it is allowed to construct a \\texttt{DataFrame} from a \\texttt{DataFrameRow} or a \\texttt{GroupedDataFrame}. In the latter case the \\texttt{keepkeys} keyword argument specifies whether the resulting \\texttt{DataFrame} should contain the grouping columns of the passed \\texttt{GroupedDataFrame} and the order of rows in the result follows the order of groups in the \\texttt{GroupedDataFrame} passed.\n",
       "\n",
       "\\section{Notes}\n",
       "The \\texttt{DataFrame} constructor by default copies all columns vectors passed to it. Pass the \\texttt{copycols=false} keyword argument (where supported) to reuse vectors without copying them.\n",
       "\n",
       "By default an error will be raised if duplicates in column names are found. Pass \\texttt{makeunique=true} keyword argument (where supported) to accept duplicate names, in which case they will be suffixed with \\texttt{\\_i} (\\texttt{i} starting at 1 for the first duplicate).\n",
       "\n",
       "If an \\texttt{AbstractRange} is passed to a \\texttt{DataFrame} constructor as a column it is always collected to a \\texttt{Vector} (even if \\texttt{copycols=false}). As a general rule \\texttt{AbstractRange} values are always materialized to a \\texttt{Vector} by all functions in DataFrames.jl before being stored in a \\texttt{DataFrame}.\n",
       "\n",
       "The \\texttt{DataFrame} type is designed to allow column types to vary and to be dynamically changed also after it is constructed. Therefore \\texttt{DataFrame}s are not type stable. For performance-critical code that requires type-stability either use the functionality provided by \\texttt{select}/\\texttt{transform}/\\texttt{combine} functions, use \\texttt{Tables.columntable} and \\texttt{Tables.namedtupleiterator} functions, use barrier functions, or provide type assertions to the variables that hold columns extracted from a \\texttt{DataFrame}.\n",
       "\n",
       "\\section{Examples}\n",
       "\\begin{verbatim}\n",
       "julia> DataFrame((a=[1, 2], b=[3, 4])) # Tables.jl table constructor\n",
       "2×2 DataFrame\n",
       " Row │ a      b\n",
       "     │ Int64  Int64\n",
       "─────┼──────────────\n",
       "   1 │     1      3\n",
       "   2 │     2      4\n",
       "\n",
       "julia> DataFrame([(a=1, b=0), (a=2, b=0)]) # Tables.jl table constructor\n",
       "2×2 DataFrame\n",
       " Row │ a      b\n",
       "     │ Int64  Int64\n",
       "─────┼──────────────\n",
       "   1 │     1      0\n",
       "   2 │     2      0\n",
       "\n",
       "julia> DataFrame(\"a\" => 1:2, \"b\" => 0) # Pair constructor\n",
       "2×2 DataFrame\n",
       " Row │ a      b\n",
       "     │ Int64  Int64\n",
       "─────┼──────────────\n",
       "   1 │     1      0\n",
       "   2 │     2      0\n",
       "\n",
       "julia> DataFrame([:a => 1:2, :b => 0]) # vector of Pairs constructor\n",
       "2×2 DataFrame\n",
       " Row │ a      b\n",
       "     │ Int64  Int64\n",
       "─────┼──────────────\n",
       "   1 │     1      0\n",
       "   2 │     2      0\n",
       "\n",
       "julia> DataFrame(Dict(:a => 1:2, :b => 0)) # dictionary constructor\n",
       "2×2 DataFrame\n",
       " Row │ a      b\n",
       "     │ Int64  Int64\n",
       "─────┼──────────────\n",
       "   1 │     1      0\n",
       "   2 │     2      0\n",
       "\n",
       "julia> DataFrame(a=1:2, b=0) # keyword argument constructor\n",
       "2×2 DataFrame\n",
       " Row │ a      b\n",
       "     │ Int64  Int64\n",
       "─────┼──────────────\n",
       "   1 │     1      0\n",
       "   2 │     2      0\n",
       "\n",
       "julia> DataFrame([[1, 2], [0, 0]], [:a, :b]) # vector of vectors constructor\n",
       "2×2 DataFrame\n",
       " Row │ a      b\n",
       "     │ Int64  Int64\n",
       "─────┼──────────────\n",
       "   1 │     1      0\n",
       "   2 │     2      0\n",
       "\n",
       "julia> DataFrame([1 0; 2 0], :auto) # matrix constructor\n",
       "2×2 DataFrame\n",
       " Row │ x1     x2\n",
       "     │ Int64  Int64\n",
       "─────┼──────────────\n",
       "   1 │     1      0\n",
       "   2 │     2      0\n",
       "\\end{verbatim}\n"
      ],
      "text/markdown": [
       "```\n",
       "DataFrame <: AbstractDataFrame\n",
       "```\n",
       "\n",
       "An AbstractDataFrame that stores a set of named columns\n",
       "\n",
       "The columns are normally AbstractVectors stored in memory, particularly a Vector or CategoricalVector.\n",
       "\n",
       "# Constructors\n",
       "\n",
       "```julia\n",
       "DataFrame(pairs::Pair...; makeunique::Bool=false, copycols::Bool=true)\n",
       "DataFrame(pairs::AbstractVector{<:Pair}; makeunique::Bool=false, copycols::Bool=true)\n",
       "DataFrame(ds::AbstractDict; copycols::Bool=true)\n",
       "DataFrame(kwargs..., copycols::Bool=true)\n",
       "\n",
       "DataFrame(columns::AbstractVecOrMat, names::Union{AbstractVector, Symbol};\n",
       "          makeunique::Bool=false, copycols::Bool=true)\n",
       "\n",
       "DataFrame(table; copycols::Bool=true)\n",
       "DataFrame(::DataFrameRow)\n",
       "DataFrame(::GroupedDataFrame; keepkeys::Bool=true)\n",
       "```\n",
       "\n",
       "# Keyword arguments\n",
       "\n",
       "  * `copycols` : whether vectors passed as columns should be copied; by default set to `true` and the vectors are copied; if set to `false` then the constructor will still copy the passed columns if it is not possible to construct a `DataFrame` without materializing new columns.\n",
       "  * `makeunique` : if `false` (the default), an error will be raised\n",
       "\n",
       "(note that not all constructors support these keyword arguments)\n",
       "\n",
       "# Details on behavior of different constructors\n",
       "\n",
       "It is allowed to pass a vector of `Pair`s, a list of `Pair`s as positional arguments, or a list of keyword arguments. In this case each pair is considered to represent a column name to column value mapping and column name must be a `Symbol` or string. Alternatively a dictionary can be passed to the constructor in which case its entries are considered to define the column name and column value pairs. If the dictionary is a `Dict` then column names will be sorted in the returned `DataFrame`.\n",
       "\n",
       "In all the constructors described above column value can be a vector which is consumed as is or an object of any other type (except `AbstractArray`). In the latter case the passed value is automatically repeated to fill a new vector of the appropriate length. As a particular rule values stored in a `Ref` or a `0`-dimensional `AbstractArray` are unwrapped and treated in the same way.\n",
       "\n",
       "It is also allowed to pass a vector of vectors or a matrix as as the first argument. In this case the second argument must be a vector of `Symbol`s or strings specifying column names, or the symbol `:auto` to generate column names `x1`, `x2`, ... automatically.\n",
       "\n",
       "If a single positional argument is passed to a `DataFrame` constructor then it is assumed to be of type that implements the [Tables.jl](https://github.com/JuliaData/Tables.jl) interface using which the returned `DataFrame` is materialized.\n",
       "\n",
       "Finally it is allowed to construct a `DataFrame` from a `DataFrameRow` or a `GroupedDataFrame`. In the latter case the `keepkeys` keyword argument specifies whether the resulting `DataFrame` should contain the grouping columns of the passed `GroupedDataFrame` and the order of rows in the result follows the order of groups in the `GroupedDataFrame` passed.\n",
       "\n",
       "# Notes\n",
       "\n",
       "The `DataFrame` constructor by default copies all columns vectors passed to it. Pass the `copycols=false` keyword argument (where supported) to reuse vectors without copying them.\n",
       "\n",
       "By default an error will be raised if duplicates in column names are found. Pass `makeunique=true` keyword argument (where supported) to accept duplicate names, in which case they will be suffixed with `_i` (`i` starting at 1 for the first duplicate).\n",
       "\n",
       "If an `AbstractRange` is passed to a `DataFrame` constructor as a column it is always collected to a `Vector` (even if `copycols=false`). As a general rule `AbstractRange` values are always materialized to a `Vector` by all functions in DataFrames.jl before being stored in a `DataFrame`.\n",
       "\n",
       "The `DataFrame` type is designed to allow column types to vary and to be dynamically changed also after it is constructed. Therefore `DataFrame`s are not type stable. For performance-critical code that requires type-stability either use the functionality provided by `select`/`transform`/`combine` functions, use `Tables.columntable` and `Tables.namedtupleiterator` functions, use barrier functions, or provide type assertions to the variables that hold columns extracted from a `DataFrame`.\n",
       "\n",
       "# Examples\n",
       "\n",
       "```julia\n",
       "julia> DataFrame((a=[1, 2], b=[3, 4])) # Tables.jl table constructor\n",
       "2×2 DataFrame\n",
       " Row │ a      b\n",
       "     │ Int64  Int64\n",
       "─────┼──────────────\n",
       "   1 │     1      3\n",
       "   2 │     2      4\n",
       "\n",
       "julia> DataFrame([(a=1, b=0), (a=2, b=0)]) # Tables.jl table constructor\n",
       "2×2 DataFrame\n",
       " Row │ a      b\n",
       "     │ Int64  Int64\n",
       "─────┼──────────────\n",
       "   1 │     1      0\n",
       "   2 │     2      0\n",
       "\n",
       "julia> DataFrame(\"a\" => 1:2, \"b\" => 0) # Pair constructor\n",
       "2×2 DataFrame\n",
       " Row │ a      b\n",
       "     │ Int64  Int64\n",
       "─────┼──────────────\n",
       "   1 │     1      0\n",
       "   2 │     2      0\n",
       "\n",
       "julia> DataFrame([:a => 1:2, :b => 0]) # vector of Pairs constructor\n",
       "2×2 DataFrame\n",
       " Row │ a      b\n",
       "     │ Int64  Int64\n",
       "─────┼──────────────\n",
       "   1 │     1      0\n",
       "   2 │     2      0\n",
       "\n",
       "julia> DataFrame(Dict(:a => 1:2, :b => 0)) # dictionary constructor\n",
       "2×2 DataFrame\n",
       " Row │ a      b\n",
       "     │ Int64  Int64\n",
       "─────┼──────────────\n",
       "   1 │     1      0\n",
       "   2 │     2      0\n",
       "\n",
       "julia> DataFrame(a=1:2, b=0) # keyword argument constructor\n",
       "2×2 DataFrame\n",
       " Row │ a      b\n",
       "     │ Int64  Int64\n",
       "─────┼──────────────\n",
       "   1 │     1      0\n",
       "   2 │     2      0\n",
       "\n",
       "julia> DataFrame([[1, 2], [0, 0]], [:a, :b]) # vector of vectors constructor\n",
       "2×2 DataFrame\n",
       " Row │ a      b\n",
       "     │ Int64  Int64\n",
       "─────┼──────────────\n",
       "   1 │     1      0\n",
       "   2 │     2      0\n",
       "\n",
       "julia> DataFrame([1 0; 2 0], :auto) # matrix constructor\n",
       "2×2 DataFrame\n",
       " Row │ x1     x2\n",
       "     │ Int64  Int64\n",
       "─────┼──────────────\n",
       "   1 │     1      0\n",
       "   2 │     2      0\n",
       "```\n"
      ],
      "text/plain": [
       "\u001b[36m  DataFrame <: AbstractDataFrame\u001b[39m\n",
       "\n",
       "  An AbstractDataFrame that stores a set of named columns\n",
       "\n",
       "  The columns are normally AbstractVectors stored in memory, particularly a\n",
       "  Vector or CategoricalVector.\n",
       "\n",
       "\u001b[1m  Constructors\u001b[22m\n",
       "\u001b[1m  ≡≡≡≡≡≡≡≡≡≡≡≡≡≡\u001b[22m\n",
       "\n",
       "\u001b[36m  DataFrame(pairs::Pair...; makeunique::Bool=false, copycols::Bool=true)\u001b[39m\n",
       "\u001b[36m  DataFrame(pairs::AbstractVector{<:Pair}; makeunique::Bool=false, copycols::Bool=true)\u001b[39m\n",
       "\u001b[36m  DataFrame(ds::AbstractDict; copycols::Bool=true)\u001b[39m\n",
       "\u001b[36m  DataFrame(kwargs..., copycols::Bool=true)\u001b[39m\n",
       "\u001b[36m  \u001b[39m\n",
       "\u001b[36m  DataFrame(columns::AbstractVecOrMat, names::Union{AbstractVector, Symbol};\u001b[39m\n",
       "\u001b[36m            makeunique::Bool=false, copycols::Bool=true)\u001b[39m\n",
       "\u001b[36m  \u001b[39m\n",
       "\u001b[36m  DataFrame(table; copycols::Bool=true)\u001b[39m\n",
       "\u001b[36m  DataFrame(::DataFrameRow)\u001b[39m\n",
       "\u001b[36m  DataFrame(::GroupedDataFrame; keepkeys::Bool=true)\u001b[39m\n",
       "\n",
       "\u001b[1m  Keyword arguments\u001b[22m\n",
       "\u001b[1m  ≡≡≡≡≡≡≡≡≡≡≡≡≡≡≡≡≡≡≡\u001b[22m\n",
       "\n",
       "    •    \u001b[36mcopycols\u001b[39m : whether vectors passed as columns should be copied; by\n",
       "        default set to \u001b[36mtrue\u001b[39m and the vectors are copied; if set to \u001b[36mfalse\u001b[39m\n",
       "        then the constructor will still copy the passed columns if it is\n",
       "        not possible to construct a \u001b[36mDataFrame\u001b[39m without materializing new\n",
       "        columns.\n",
       "\n",
       "    •    \u001b[36mmakeunique\u001b[39m : if \u001b[36mfalse\u001b[39m (the default), an error will be raised\n",
       "\n",
       "  (note that not all constructors support these keyword arguments)\n",
       "\n",
       "\u001b[1m  Details on behavior of different constructors\u001b[22m\n",
       "\u001b[1m  ≡≡≡≡≡≡≡≡≡≡≡≡≡≡≡≡≡≡≡≡≡≡≡≡≡≡≡≡≡≡≡≡≡≡≡≡≡≡≡≡≡≡≡≡≡≡≡\u001b[22m\n",
       "\n",
       "  It is allowed to pass a vector of \u001b[36mPair\u001b[39ms, a list of \u001b[36mPair\u001b[39ms as positional\n",
       "  arguments, or a list of keyword arguments. In this case each pair is\n",
       "  considered to represent a column name to column value mapping and column\n",
       "  name must be a \u001b[36mSymbol\u001b[39m or string. Alternatively a dictionary can be passed to\n",
       "  the constructor in which case its entries are considered to define the\n",
       "  column name and column value pairs. If the dictionary is a \u001b[36mDict\u001b[39m then column\n",
       "  names will be sorted in the returned \u001b[36mDataFrame\u001b[39m.\n",
       "\n",
       "  In all the constructors described above column value can be a vector which\n",
       "  is consumed as is or an object of any other type (except \u001b[36mAbstractArray\u001b[39m). In\n",
       "  the latter case the passed value is automatically repeated to fill a new\n",
       "  vector of the appropriate length. As a particular rule values stored in a\n",
       "  \u001b[36mRef\u001b[39m or a \u001b[36m0\u001b[39m-dimensional \u001b[36mAbstractArray\u001b[39m are unwrapped and treated in the same\n",
       "  way.\n",
       "\n",
       "  It is also allowed to pass a vector of vectors or a matrix as as the first\n",
       "  argument. In this case the second argument must be a vector of \u001b[36mSymbol\u001b[39ms or\n",
       "  strings specifying column names, or the symbol \u001b[36m:auto\u001b[39m to generate column\n",
       "  names \u001b[36mx1\u001b[39m, \u001b[36mx2\u001b[39m, ... automatically.\n",
       "\n",
       "  If a single positional argument is passed to a \u001b[36mDataFrame\u001b[39m constructor then it\n",
       "  is assumed to be of type that implements the Tables.jl\n",
       "  (https://github.com/JuliaData/Tables.jl) interface using which the returned\n",
       "  \u001b[36mDataFrame\u001b[39m is materialized.\n",
       "\n",
       "  Finally it is allowed to construct a \u001b[36mDataFrame\u001b[39m from a \u001b[36mDataFrameRow\u001b[39m or a\n",
       "  \u001b[36mGroupedDataFrame\u001b[39m. In the latter case the \u001b[36mkeepkeys\u001b[39m keyword argument specifies\n",
       "  whether the resulting \u001b[36mDataFrame\u001b[39m should contain the grouping columns of the\n",
       "  passed \u001b[36mGroupedDataFrame\u001b[39m and the order of rows in the result follows the\n",
       "  order of groups in the \u001b[36mGroupedDataFrame\u001b[39m passed.\n",
       "\n",
       "\u001b[1m  Notes\u001b[22m\n",
       "\u001b[1m  ≡≡≡≡≡≡≡\u001b[22m\n",
       "\n",
       "  The \u001b[36mDataFrame\u001b[39m constructor by default copies all columns vectors passed to\n",
       "  it. Pass the \u001b[36mcopycols=false\u001b[39m keyword argument (where supported) to reuse\n",
       "  vectors without copying them.\n",
       "\n",
       "  By default an error will be raised if duplicates in column names are found.\n",
       "  Pass \u001b[36mmakeunique=true\u001b[39m keyword argument (where supported) to accept duplicate\n",
       "  names, in which case they will be suffixed with \u001b[36m_i\u001b[39m (\u001b[36mi\u001b[39m starting at 1 for the\n",
       "  first duplicate).\n",
       "\n",
       "  If an \u001b[36mAbstractRange\u001b[39m is passed to a \u001b[36mDataFrame\u001b[39m constructor as a column it is\n",
       "  always collected to a \u001b[36mVector\u001b[39m (even if \u001b[36mcopycols=false\u001b[39m). As a general rule\n",
       "  \u001b[36mAbstractRange\u001b[39m values are always materialized to a \u001b[36mVector\u001b[39m by all functions in\n",
       "  DataFrames.jl before being stored in a \u001b[36mDataFrame\u001b[39m.\n",
       "\n",
       "  The \u001b[36mDataFrame\u001b[39m type is designed to allow column types to vary and to be\n",
       "  dynamically changed also after it is constructed. Therefore \u001b[36mDataFrame\u001b[39ms are\n",
       "  not type stable. For performance-critical code that requires type-stability\n",
       "  either use the functionality provided by \u001b[36mselect\u001b[39m/\u001b[36mtransform\u001b[39m/\u001b[36mcombine\u001b[39m functions,\n",
       "  use \u001b[36mTables.columntable\u001b[39m and \u001b[36mTables.namedtupleiterator\u001b[39m functions, use barrier\n",
       "  functions, or provide type assertions to the variables that hold columns\n",
       "  extracted from a \u001b[36mDataFrame\u001b[39m.\n",
       "\n",
       "\u001b[1m  Examples\u001b[22m\n",
       "\u001b[1m  ≡≡≡≡≡≡≡≡≡≡\u001b[22m\n",
       "\n",
       "\u001b[36m  julia> DataFrame((a=[1, 2], b=[3, 4])) # Tables.jl table constructor\u001b[39m\n",
       "\u001b[36m  2×2 DataFrame\u001b[39m\n",
       "\u001b[36m   Row │ a      b\u001b[39m\n",
       "\u001b[36m       │ Int64  Int64\u001b[39m\n",
       "\u001b[36m  ─────┼──────────────\u001b[39m\n",
       "\u001b[36m     1 │     1      3\u001b[39m\n",
       "\u001b[36m     2 │     2      4\u001b[39m\n",
       "\u001b[36m  \u001b[39m\n",
       "\u001b[36m  julia> DataFrame([(a=1, b=0), (a=2, b=0)]) # Tables.jl table constructor\u001b[39m\n",
       "\u001b[36m  2×2 DataFrame\u001b[39m\n",
       "\u001b[36m   Row │ a      b\u001b[39m\n",
       "\u001b[36m       │ Int64  Int64\u001b[39m\n",
       "\u001b[36m  ─────┼──────────────\u001b[39m\n",
       "\u001b[36m     1 │     1      0\u001b[39m\n",
       "\u001b[36m     2 │     2      0\u001b[39m\n",
       "\u001b[36m  \u001b[39m\n",
       "\u001b[36m  julia> DataFrame(\"a\" => 1:2, \"b\" => 0) # Pair constructor\u001b[39m\n",
       "\u001b[36m  2×2 DataFrame\u001b[39m\n",
       "\u001b[36m   Row │ a      b\u001b[39m\n",
       "\u001b[36m       │ Int64  Int64\u001b[39m\n",
       "\u001b[36m  ─────┼──────────────\u001b[39m\n",
       "\u001b[36m     1 │     1      0\u001b[39m\n",
       "\u001b[36m     2 │     2      0\u001b[39m\n",
       "\u001b[36m  \u001b[39m\n",
       "\u001b[36m  julia> DataFrame([:a => 1:2, :b => 0]) # vector of Pairs constructor\u001b[39m\n",
       "\u001b[36m  2×2 DataFrame\u001b[39m\n",
       "\u001b[36m   Row │ a      b\u001b[39m\n",
       "\u001b[36m       │ Int64  Int64\u001b[39m\n",
       "\u001b[36m  ─────┼──────────────\u001b[39m\n",
       "\u001b[36m     1 │     1      0\u001b[39m\n",
       "\u001b[36m     2 │     2      0\u001b[39m\n",
       "\u001b[36m  \u001b[39m\n",
       "\u001b[36m  julia> DataFrame(Dict(:a => 1:2, :b => 0)) # dictionary constructor\u001b[39m\n",
       "\u001b[36m  2×2 DataFrame\u001b[39m\n",
       "\u001b[36m   Row │ a      b\u001b[39m\n",
       "\u001b[36m       │ Int64  Int64\u001b[39m\n",
       "\u001b[36m  ─────┼──────────────\u001b[39m\n",
       "\u001b[36m     1 │     1      0\u001b[39m\n",
       "\u001b[36m     2 │     2      0\u001b[39m\n",
       "\u001b[36m  \u001b[39m\n",
       "\u001b[36m  julia> DataFrame(a=1:2, b=0) # keyword argument constructor\u001b[39m\n",
       "\u001b[36m  2×2 DataFrame\u001b[39m\n",
       "\u001b[36m   Row │ a      b\u001b[39m\n",
       "\u001b[36m       │ Int64  Int64\u001b[39m\n",
       "\u001b[36m  ─────┼──────────────\u001b[39m\n",
       "\u001b[36m     1 │     1      0\u001b[39m\n",
       "\u001b[36m     2 │     2      0\u001b[39m\n",
       "\u001b[36m  \u001b[39m\n",
       "\u001b[36m  julia> DataFrame([[1, 2], [0, 0]], [:a, :b]) # vector of vectors constructor\u001b[39m\n",
       "\u001b[36m  2×2 DataFrame\u001b[39m\n",
       "\u001b[36m   Row │ a      b\u001b[39m\n",
       "\u001b[36m       │ Int64  Int64\u001b[39m\n",
       "\u001b[36m  ─────┼──────────────\u001b[39m\n",
       "\u001b[36m     1 │     1      0\u001b[39m\n",
       "\u001b[36m     2 │     2      0\u001b[39m\n",
       "\u001b[36m  \u001b[39m\n",
       "\u001b[36m  julia> DataFrame([1 0; 2 0], :auto) # matrix constructor\u001b[39m\n",
       "\u001b[36m  2×2 DataFrame\u001b[39m\n",
       "\u001b[36m   Row │ x1     x2\u001b[39m\n",
       "\u001b[36m       │ Int64  Int64\u001b[39m\n",
       "\u001b[36m  ─────┼──────────────\u001b[39m\n",
       "\u001b[36m     1 │     1      0\u001b[39m\n",
       "\u001b[36m     2 │     2      0\u001b[39m"
      ]
     },
     "execution_count": 23,
     "metadata": {},
     "output_type": "execute_result"
    }
   ],
   "source": [
    "?DataFrame"
   ]
  },
  {
   "cell_type": "code",
   "execution_count": 24,
   "metadata": {},
   "outputs": [],
   "source": [
    "# XLSX 패키지의 readtable로 읽어들이기 -> 두개의 튜플로 읽어들임 (하나는 각 컬럼들이 원소(벡터)가 되는 원소, 다른 하나는 컬럼명)\n",
    "# -> 어레이 형태가 됨\n",
    "G = XLSX.readtable(\"C:/Users/user/DataScience-main/data/zillow_data_download_april2020.xlsx\", \"Sale_counts_city\");"
   ]
  },
  {
   "cell_type": "code",
   "execution_count": 25,
   "metadata": {},
   "outputs": [
    {
     "data": {
      "text/plain": [
       "10-element Array{Any,1}:\n",
       "  6181\n",
       " 12447\n",
       " 39051\n",
       " 17426\n",
       "  6915\n",
       " 13271\n",
       " 40326\n",
       " 18959\n",
       " 54296\n",
       " 38128"
      ]
     },
     "execution_count": 25,
     "metadata": {},
     "output_type": "execute_result"
    }
   ],
   "source": [
    "G[1][1][1:10]"
   ]
  },
  {
   "cell_type": "code",
   "execution_count": 26,
   "metadata": {},
   "outputs": [
    {
     "data": {
      "text/plain": [
       "10-element Array{Symbol,1}:\n",
       " :RegionID        \n",
       " :RegionName      \n",
       " :StateName       \n",
       " :SizeRank        \n",
       " Symbol(\"2008-03\")\n",
       " Symbol(\"2008-04\")\n",
       " Symbol(\"2008-05\")\n",
       " Symbol(\"2008-06\")\n",
       " Symbol(\"2008-07\")\n",
       " Symbol(\"2008-08\")"
      ]
     },
     "execution_count": 26,
     "metadata": {},
     "output_type": "execute_result"
    }
   ],
   "source": [
    "G[2][1:10]"
   ]
  },
  {
   "cell_type": "code",
   "execution_count": 27,
   "metadata": {},
   "outputs": [
    {
     "data": {
      "text/html": [
       "<table class=\"data-frame\"><thead><tr><th></th><th>RegionID</th><th>RegionName</th><th>StateName</th><th>SizeRank</th><th>2008-03</th><th>2008-04</th><th>2008-05</th></tr><tr><th></th><th>Any</th><th>Any</th><th>Any</th><th>Any</th><th>Any</th><th>Any</th><th>Any</th></tr></thead><tbody><p>28,759 rows × 148 columns (omitted printing of 141 columns)</p><tr><th>1</th><td>6181</td><td>New York</td><td>New York</td><td>1</td><td><em>missing</em></td><td><em>missing</em></td><td><em>missing</em></td></tr><tr><th>2</th><td>12447</td><td>Los Angeles</td><td>California</td><td>2</td><td>1446</td><td>1705</td><td>1795</td></tr><tr><th>3</th><td>39051</td><td>Houston</td><td>Texas</td><td>3</td><td>2926</td><td>3121</td><td>3220</td></tr><tr><th>4</th><td>17426</td><td>Chicago</td><td>Illinois</td><td>4</td><td>2910</td><td>3022</td><td>2937</td></tr><tr><th>5</th><td>6915</td><td>San Antonio</td><td>Texas</td><td>5</td><td>1479</td><td>1529</td><td>1582</td></tr><tr><th>6</th><td>13271</td><td>Philadelphia</td><td>Pennsylvania</td><td>6</td><td>1609</td><td>1795</td><td>1709</td></tr><tr><th>7</th><td>40326</td><td>Phoenix</td><td>Arizona</td><td>7</td><td>1310</td><td>1519</td><td>1654</td></tr><tr><th>8</th><td>18959</td><td>Las Vegas</td><td>Nevada</td><td>8</td><td>1618</td><td>1856</td><td>1961</td></tr><tr><th>9</th><td>54296</td><td>San Diego</td><td>California</td><td>9</td><td>772</td><td>1057</td><td>1195</td></tr><tr><th>10</th><td>38128</td><td>Dallas</td><td>Texas</td><td>10</td><td>1158</td><td>1232</td><td>1240</td></tr><tr><th>11</th><td>10221</td><td>Austin</td><td>Texas</td><td>11</td><td>997</td><td>1140</td><td>1168</td></tr><tr><th>12</th><td>33839</td><td>San Jose</td><td>California</td><td>12</td><td>455</td><td>555</td><td>583</td></tr><tr><th>13</th><td>25290</td><td>Jacksonville</td><td>Florida</td><td>13</td><td>613</td><td>730</td><td>738</td></tr><tr><th>14</th><td>32149</td><td>Indianapolis</td><td>Indiana</td><td>14</td><td><em>missing</em></td><td><em>missing</em></td><td><em>missing</em></td></tr><tr><th>15</th><td>20330</td><td>San Francisco</td><td>California</td><td>15</td><td>419</td><td>485</td><td>553</td></tr><tr><th>16</th><td>24043</td><td>Charlotte</td><td>North Carolina</td><td>16</td><td>1101</td><td>1201</td><td>1380</td></tr><tr><th>17</th><td>18172</td><td>Fort Worth</td><td>Texas</td><td>17</td><td>862</td><td>1130</td><td>1000</td></tr><tr><th>18</th><td>7481</td><td>Tucson</td><td>Arizona</td><td>18</td><td>737</td><td>841</td><td>842</td></tr><tr><th>19</th><td>10920</td><td>Columbus</td><td>Ohio</td><td>19</td><td>832</td><td>975</td><td>939</td></tr><tr><th>20</th><td>12455</td><td>Louisville</td><td>Kentucky</td><td>20</td><td>881</td><td>1017</td><td>967</td></tr><tr><th>21</th><td>13121</td><td>Orlando</td><td>Florida</td><td>21</td><td>550</td><td>507</td><td>489</td></tr><tr><th>22</th><td>17933</td><td>El Paso</td><td>Texas</td><td>22</td><td><em>missing</em></td><td><em>missing</em></td><td><em>missing</em></td></tr><tr><th>23</th><td>17762</td><td>Detroit</td><td>Michigan</td><td>23</td><td><em>missing</em></td><td><em>missing</em></td><td><em>missing</em></td></tr><tr><th>24</th><td>11093</td><td>Denver</td><td>Colorado</td><td>24</td><td>975</td><td>1076</td><td>1241</td></tr><tr><th>25</th><td>16037</td><td>Seattle</td><td>Washington</td><td>25</td><td>615</td><td>641</td><td>689</td></tr><tr><th>26</th><td>32811</td><td>Memphis</td><td>Tennessee</td><td>26</td><td>872</td><td>802</td><td>775</td></tr><tr><th>27</th><td>44269</td><td>Boston</td><td>Massachusetts</td><td>27</td><td><em>missing</em></td><td><em>missing</em></td><td><em>missing</em></td></tr><tr><th>28</th><td>41568</td><td>Washington</td><td>District of Columbia</td><td>28</td><td>479</td><td>429</td><td>503</td></tr><tr><th>29</th><td>13373</td><td>Portland</td><td>Oregon</td><td>29</td><td>787</td><td>745</td><td>926</td></tr><tr><th>30</th><td>6118</td><td>Nashville</td><td>Tennessee</td><td>30</td><td>671</td><td>778</td><td>779</td></tr><tr><th>&vellip;</th><td>&vellip;</td><td>&vellip;</td><td>&vellip;</td><td>&vellip;</td><td>&vellip;</td><td>&vellip;</td><td>&vellip;</td></tr></tbody></table>"
      ],
      "text/latex": [
       "\\begin{tabular}{r|cccccccc}\n",
       "\t& RegionID & RegionName & StateName & SizeRank & 2008-03 & 2008-04 & 2008-05 & \\\\\n",
       "\t\\hline\n",
       "\t& Any & Any & Any & Any & Any & Any & Any & \\\\\n",
       "\t\\hline\n",
       "\t1 & 6181 & New York & New York & 1 & \\emph{missing} & \\emph{missing} & \\emph{missing} & $\\dots$ \\\\\n",
       "\t2 & 12447 & Los Angeles & California & 2 & 1446 & 1705 & 1795 & $\\dots$ \\\\\n",
       "\t3 & 39051 & Houston & Texas & 3 & 2926 & 3121 & 3220 & $\\dots$ \\\\\n",
       "\t4 & 17426 & Chicago & Illinois & 4 & 2910 & 3022 & 2937 & $\\dots$ \\\\\n",
       "\t5 & 6915 & San Antonio & Texas & 5 & 1479 & 1529 & 1582 & $\\dots$ \\\\\n",
       "\t6 & 13271 & Philadelphia & Pennsylvania & 6 & 1609 & 1795 & 1709 & $\\dots$ \\\\\n",
       "\t7 & 40326 & Phoenix & Arizona & 7 & 1310 & 1519 & 1654 & $\\dots$ \\\\\n",
       "\t8 & 18959 & Las Vegas & Nevada & 8 & 1618 & 1856 & 1961 & $\\dots$ \\\\\n",
       "\t9 & 54296 & San Diego & California & 9 & 772 & 1057 & 1195 & $\\dots$ \\\\\n",
       "\t10 & 38128 & Dallas & Texas & 10 & 1158 & 1232 & 1240 & $\\dots$ \\\\\n",
       "\t11 & 10221 & Austin & Texas & 11 & 997 & 1140 & 1168 & $\\dots$ \\\\\n",
       "\t12 & 33839 & San Jose & California & 12 & 455 & 555 & 583 & $\\dots$ \\\\\n",
       "\t13 & 25290 & Jacksonville & Florida & 13 & 613 & 730 & 738 & $\\dots$ \\\\\n",
       "\t14 & 32149 & Indianapolis & Indiana & 14 & \\emph{missing} & \\emph{missing} & \\emph{missing} & $\\dots$ \\\\\n",
       "\t15 & 20330 & San Francisco & California & 15 & 419 & 485 & 553 & $\\dots$ \\\\\n",
       "\t16 & 24043 & Charlotte & North Carolina & 16 & 1101 & 1201 & 1380 & $\\dots$ \\\\\n",
       "\t17 & 18172 & Fort Worth & Texas & 17 & 862 & 1130 & 1000 & $\\dots$ \\\\\n",
       "\t18 & 7481 & Tucson & Arizona & 18 & 737 & 841 & 842 & $\\dots$ \\\\\n",
       "\t19 & 10920 & Columbus & Ohio & 19 & 832 & 975 & 939 & $\\dots$ \\\\\n",
       "\t20 & 12455 & Louisville & Kentucky & 20 & 881 & 1017 & 967 & $\\dots$ \\\\\n",
       "\t21 & 13121 & Orlando & Florida & 21 & 550 & 507 & 489 & $\\dots$ \\\\\n",
       "\t22 & 17933 & El Paso & Texas & 22 & \\emph{missing} & \\emph{missing} & \\emph{missing} & $\\dots$ \\\\\n",
       "\t23 & 17762 & Detroit & Michigan & 23 & \\emph{missing} & \\emph{missing} & \\emph{missing} & $\\dots$ \\\\\n",
       "\t24 & 11093 & Denver & Colorado & 24 & 975 & 1076 & 1241 & $\\dots$ \\\\\n",
       "\t25 & 16037 & Seattle & Washington & 25 & 615 & 641 & 689 & $\\dots$ \\\\\n",
       "\t26 & 32811 & Memphis & Tennessee & 26 & 872 & 802 & 775 & $\\dots$ \\\\\n",
       "\t27 & 44269 & Boston & Massachusetts & 27 & \\emph{missing} & \\emph{missing} & \\emph{missing} & $\\dots$ \\\\\n",
       "\t28 & 41568 & Washington & District of Columbia & 28 & 479 & 429 & 503 & $\\dots$ \\\\\n",
       "\t29 & 13373 & Portland & Oregon & 29 & 787 & 745 & 926 & $\\dots$ \\\\\n",
       "\t30 & 6118 & Nashville & Tennessee & 30 & 671 & 778 & 779 & $\\dots$ \\\\\n",
       "\t$\\dots$ & $\\dots$ & $\\dots$ & $\\dots$ & $\\dots$ & $\\dots$ & $\\dots$ & $\\dots$ &  \\\\\n",
       "\\end{tabular}\n"
      ],
      "text/plain": [
       "\u001b[1m28759×148 DataFrame\u001b[0m\n",
       "\u001b[1m   Row \u001b[0m│\u001b[1m RegionID \u001b[0m\u001b[1m RegionName                 \u001b[0m\u001b[1m StateName     \u001b[0m\u001b[1m SizeRank \u001b[0m\u001b[1m 2008-0\u001b[0m ⋯\n",
       "\u001b[1m       \u001b[0m│\u001b[90m Any      \u001b[0m\u001b[90m Any                        \u001b[0m\u001b[90m Any           \u001b[0m\u001b[90m Any      \u001b[0m\u001b[90m Any   \u001b[0m ⋯\n",
       "───────┼────────────────────────────────────────────────────────────────────────\n",
       "     1 │ 6181      New York                    New York       1        \u001b[90m missin\u001b[0m ⋯\n",
       "     2 │ 12447     Los Angeles                 California     2         1446\n",
       "     3 │ 39051     Houston                     Texas          3         2926\n",
       "     4 │ 17426     Chicago                     Illinois       4         2910\n",
       "     5 │ 6915      San Antonio                 Texas          5         1479   ⋯\n",
       "     6 │ 13271     Philadelphia                Pennsylvania   6         1609\n",
       "     7 │ 40326     Phoenix                     Arizona        7         1310\n",
       "     8 │ 18959     Las Vegas                   Nevada         8         1618\n",
       "     9 │ 54296     San Diego                   California     9         772    ⋯\n",
       "    10 │ 38128     Dallas                      Texas          10        1158\n",
       "    11 │ 10221     Austin                      Texas          11        997\n",
       "   ⋮   │    ⋮                  ⋮                     ⋮           ⋮         ⋮   ⋱\n",
       " 28750 │ 396952    Barnard Plantation          Maine          28750     0\n",
       " 28751 │ 397236    Windsor Place               Missouri       28751     0      ⋯\n",
       " 28752 │ 398030    Stockbridge                 Wisconsin      28752     0\n",
       " 28753 │ 398104    Mattamiscontis              Maine          28753     0\n",
       " 28754 │ 398357    Chase Stream                Maine          28754     0\n",
       " 28755 │ 398712    Bowdoin College Grant West  Maine          28755     0      ⋯\n",
       " 28756 │ 398716    Summerset                   South Dakota   28756     0\n",
       " 28757 │ 399081    Long Pond                   Maine          28757     0\n",
       " 28758 │ 737789    Hideout                     Utah           28758     1\n",
       " 28759 │ 760882    Ebeemee                     Maine          28759     0      ⋯\n",
       "\u001b[36m                                              144 columns and 28738 rows omitted\u001b[0m"
      ]
     },
     "execution_count": 27,
     "metadata": {},
     "output_type": "execute_result"
    }
   ],
   "source": [
    "D = DataFrame(G...) # equivalent to DataFrame(G[1],G[2]) #...을 splat operator라고 함"
   ]
  },
  {
   "cell_type": "code",
   "execution_count": 28,
   "metadata": {},
   "outputs": [
    {
     "data": {
      "text/html": [
       "<table class=\"data-frame\"><thead><tr><th></th><th>item</th><th>price</th></tr><tr><th></th><th>String</th><th>Float64</th></tr></thead><tbody><p>4 rows × 2 columns</p><tr><th>1</th><td>apple</td><td>0.85</td></tr><tr><th>2</th><td>cucumber</td><td>1.6</td></tr><tr><th>3</th><td>tomato</td><td>0.8</td></tr><tr><th>4</th><td>banana</td><td>0.6</td></tr></tbody></table>"
      ],
      "text/latex": [
       "\\begin{tabular}{r|cc}\n",
       "\t& item & price\\\\\n",
       "\t\\hline\n",
       "\t& String & Float64\\\\\n",
       "\t\\hline\n",
       "\t1 & apple & 0.85 \\\\\n",
       "\t2 & cucumber & 1.6 \\\\\n",
       "\t3 & tomato & 0.8 \\\\\n",
       "\t4 & banana & 0.6 \\\\\n",
       "\\end{tabular}\n"
      ],
      "text/plain": [
       "\u001b[1m4×2 DataFrame\u001b[0m\n",
       "\u001b[1m Row \u001b[0m│\u001b[1m item     \u001b[0m\u001b[1m price   \u001b[0m\n",
       "\u001b[1m     \u001b[0m│\u001b[90m String   \u001b[0m\u001b[90m Float64 \u001b[0m\n",
       "─────┼───────────────────\n",
       "   1 │ apple        0.85\n",
       "   2 │ cucumber     1.6\n",
       "   3 │ tomato       0.8\n",
       "   4 │ banana       0.6"
      ]
     },
     "execution_count": 28,
     "metadata": {},
     "output_type": "execute_result"
    }
   ],
   "source": [
    "foods = [\"apple\", \"cucumber\", \"tomato\", \"banana\"]\n",
    "calories = [105, 47, 22, 105]\n",
    "prices = [0.85, 1.6, 0.8, 0.6 ]\n",
    "dataframe_calories = DataFrame(item = foods, calories = calories)\n",
    "dataframe_prices = DataFrame(item = foods, price = prices)"
   ]
  },
  {
   "cell_type": "code",
   "execution_count": 29,
   "metadata": {},
   "outputs": [
    {
     "data": {
      "text/html": [
       "<table class=\"data-frame\"><thead><tr><th></th><th>item</th><th>calories</th><th>price</th></tr><tr><th></th><th>String</th><th>Int64</th><th>Float64</th></tr></thead><tbody><p>4 rows × 3 columns</p><tr><th>1</th><td>apple</td><td>105</td><td>0.85</td></tr><tr><th>2</th><td>cucumber</td><td>47</td><td>1.6</td></tr><tr><th>3</th><td>tomato</td><td>22</td><td>0.8</td></tr><tr><th>4</th><td>banana</td><td>105</td><td>0.6</td></tr></tbody></table>"
      ],
      "text/latex": [
       "\\begin{tabular}{r|ccc}\n",
       "\t& item & calories & price\\\\\n",
       "\t\\hline\n",
       "\t& String & Int64 & Float64\\\\\n",
       "\t\\hline\n",
       "\t1 & apple & 105 & 0.85 \\\\\n",
       "\t2 & cucumber & 47 & 1.6 \\\\\n",
       "\t3 & tomato & 22 & 0.8 \\\\\n",
       "\t4 & banana & 105 & 0.6 \\\\\n",
       "\\end{tabular}\n"
      ],
      "text/plain": [
       "\u001b[1m4×3 DataFrame\u001b[0m\n",
       "\u001b[1m Row \u001b[0m│\u001b[1m item     \u001b[0m\u001b[1m calories \u001b[0m\u001b[1m price   \u001b[0m\n",
       "\u001b[1m     \u001b[0m│\u001b[90m String   \u001b[0m\u001b[90m Int64    \u001b[0m\u001b[90m Float64 \u001b[0m\n",
       "─────┼─────────────────────────────\n",
       "   1 │ apple          105     0.85\n",
       "   2 │ cucumber        47     1.6\n",
       "   3 │ tomato          22     0.8\n",
       "   4 │ banana         105     0.6"
      ]
     },
     "execution_count": 29,
     "metadata": {},
     "output_type": "execute_result"
    }
   ],
   "source": [
    "DF = innerjoin(dataframe_calories, dataframe_prices, on = :item)"
   ]
  },
  {
   "cell_type": "markdown",
   "metadata": {},
   "source": [
    "#### matrix를 dataframe으로 바꾸기"
   ]
  },
  {
   "cell_type": "code",
   "execution_count": 30,
   "metadata": {},
   "outputs": [
    {
     "data": {
      "text/html": [
       "<table class=\"data-frame\"><thead><tr><th></th><th>x1</th><th>x2</th><th>x3</th><th>x4</th><th>x5</th><th>x6</th></tr><tr><th></th><th>Any</th><th>Any</th><th>Any</th><th>Any</th><th>Any</th><th>Any</th></tr></thead><tbody><p>9 rows × 6 columns</p><tr><th>1</th><td>RegionID</td><td>RegionName</td><td>StateName</td><td>SizeRank</td><td>2008-03</td><td>2008-04</td></tr><tr><th>2</th><td>6181</td><td>New York</td><td>New York</td><td>1</td><td><em>missing</em></td><td><em>missing</em></td></tr><tr><th>3</th><td>12447</td><td>Los Angeles</td><td>California</td><td>2</td><td>1446</td><td>1705</td></tr><tr><th>4</th><td>39051</td><td>Houston</td><td>Texas</td><td>3</td><td>2926</td><td>3121</td></tr><tr><th>5</th><td>17426</td><td>Chicago</td><td>Illinois</td><td>4</td><td>2910</td><td>3022</td></tr><tr><th>6</th><td>6915</td><td>San Antonio</td><td>Texas</td><td>5</td><td>1479</td><td>1529</td></tr><tr><th>7</th><td>13271</td><td>Philadelphia</td><td>Pennsylvania</td><td>6</td><td>1609</td><td>1795</td></tr><tr><th>8</th><td>40326</td><td>Phoenix</td><td>Arizona</td><td>7</td><td>1310</td><td>1519</td></tr><tr><th>9</th><td>18959</td><td>Las Vegas</td><td>Nevada</td><td>8</td><td>1618</td><td>1856</td></tr></tbody></table>"
      ],
      "text/latex": [
       "\\begin{tabular}{r|cccccc}\n",
       "\t& x1 & x2 & x3 & x4 & x5 & x6\\\\\n",
       "\t\\hline\n",
       "\t& Any & Any & Any & Any & Any & Any\\\\\n",
       "\t\\hline\n",
       "\t1 & RegionID & RegionName & StateName & SizeRank & 2008-03 & 2008-04 \\\\\n",
       "\t2 & 6181 & New York & New York & 1 & \\emph{missing} & \\emph{missing} \\\\\n",
       "\t3 & 12447 & Los Angeles & California & 2 & 1446 & 1705 \\\\\n",
       "\t4 & 39051 & Houston & Texas & 3 & 2926 & 3121 \\\\\n",
       "\t5 & 17426 & Chicago & Illinois & 4 & 2910 & 3022 \\\\\n",
       "\t6 & 6915 & San Antonio & Texas & 5 & 1479 & 1529 \\\\\n",
       "\t7 & 13271 & Philadelphia & Pennsylvania & 6 & 1609 & 1795 \\\\\n",
       "\t8 & 40326 & Phoenix & Arizona & 7 & 1310 & 1519 \\\\\n",
       "\t9 & 18959 & Las Vegas & Nevada & 8 & 1618 & 1856 \\\\\n",
       "\\end{tabular}\n"
      ],
      "text/plain": [
       "\u001b[1m9×6 DataFrame\u001b[0m\n",
       "\u001b[1m Row \u001b[0m│\u001b[1m x1       \u001b[0m\u001b[1m x2           \u001b[0m\u001b[1m x3           \u001b[0m\u001b[1m x4       \u001b[0m\u001b[1m x5      \u001b[0m\u001b[1m x6      \u001b[0m\n",
       "\u001b[1m     \u001b[0m│\u001b[90m Any      \u001b[0m\u001b[90m Any          \u001b[0m\u001b[90m Any          \u001b[0m\u001b[90m Any      \u001b[0m\u001b[90m Any     \u001b[0m\u001b[90m Any     \u001b[0m\n",
       "─────┼──────────────────────────────────────────────────────────────────\n",
       "   1 │ RegionID  RegionName    StateName     SizeRank  2008-03  2008-04\n",
       "   2 │ 6181      New York      New York      1        \u001b[90m missing \u001b[0m\u001b[90m missing \u001b[0m\n",
       "   3 │ 12447     Los Angeles   California    2         1446     1705\n",
       "   4 │ 39051     Houston       Texas         3         2926     3121\n",
       "   5 │ 17426     Chicago       Illinois      4         2910     3022\n",
       "   6 │ 6915      San Antonio   Texas         5         1479     1529\n",
       "   7 │ 13271     Philadelphia  Pennsylvania  6         1609     1795\n",
       "   8 │ 40326     Phoenix       Arizona       7         1310     1519\n",
       "   9 │ 18959     Las Vegas     Nevada        8         1618     1856"
      ]
     },
     "execution_count": 30,
     "metadata": {},
     "output_type": "execute_result"
    }
   ],
   "source": [
    "# 주의점: Warning: `DataFrame(columns::AbstractMatrix)` is deprecated, use `DataFrame(columns, :auto)` instead\n",
    "DataFrame(T, :auto)"
   ]
  },
  {
   "cell_type": "code",
   "execution_count": 31,
   "metadata": {},
   "outputs": [
    {
     "ename": "AssertionError",
     "evalue": "\u001b[91mAssertionError: writefile_using_XLSX.xlsx already exists.\u001b[39m",
     "output_type": "error",
     "traceback": [
      "\u001b[91mAssertionError: writefile_using_XLSX.xlsx already exists.\u001b[39m",
      "",
      "Stacktrace:",
      " [1] #writetable#44(::Bool, ::String, ::XLSX.CellRef, ::Function, ::String, ::Array{Any,1}, ::Array{Symbol,1}) at C:\\Users\\user\\.julia\\packages\\XLSX\\cRAtd\\src\\write.jl:594",
      " [2] writetable(::String, ::Array{Any,1}, ::Array{Symbol,1}) at C:\\Users\\user\\.julia\\packages\\XLSX\\cRAtd\\src\\write.jl:593",
      " [3] top-level scope at In[31]:1"
     ]
    }
   ],
   "source": [
    "# 데이터 프레임으로 내보내기 \n",
    "# \n",
    "# XLSX.writetable(\"filename.xlsx\", collect(DataFrames.eachcol(df)), DataFrames.names(df))\n",
    "XLSX.writetable(\"writefile_using_XLSX.xlsx\",G[1],G[2])"
   ]
  },
  {
   "cell_type": "code",
   "execution_count": 32,
   "metadata": {},
   "outputs": [
    {
     "ename": "AssertionError",
     "evalue": "\u001b[91mAssertionError: test_df.xlsx already exists.\u001b[39m",
     "output_type": "error",
     "traceback": [
      "\u001b[91mAssertionError: test_df.xlsx already exists.\u001b[39m",
      "",
      "Stacktrace:",
      " [1] #writetable#44(::Bool, ::String, ::XLSX.CellRef, ::Function, ::String, ::Array{Any,1}, ::Array{Symbol,1}) at C:\\Users\\user\\.julia\\packages\\XLSX\\cRAtd\\src\\write.jl:594",
      " [2] writetable at C:\\Users\\user\\.julia\\packages\\XLSX\\cRAtd\\src\\write.jl:593 [inlined]",
      " [3] #writetable#12(::Base.Iterators.Pairs{Union{},Union{},Tuple{},NamedTuple{(),Tuple{}}}, ::Function, ::String, ::DataFrame) at C:\\Users\\user\\.julia\\packages\\XLSX\\cRAtd\\src\\tables_interface.jl:17",
      " [4] writetable(::String, ::DataFrame) at C:\\Users\\user\\.julia\\packages\\XLSX\\cRAtd\\src\\tables_interface.jl:14",
      " [5] top-level scope at In[32]:1"
     ]
    }
   ],
   "source": [
    "XLSX.writetable(\"test_df.xlsx\", DF) # 성공적으로 xlsx에 저장됨"
   ]
  },
  {
   "cell_type": "markdown",
   "metadata": {},
   "source": [
    "### 데이터 과학 언어들의 데이터 불러오기(jld, npz, rda, mat)"
   ]
  },
  {
   "cell_type": "code",
   "execution_count": 33,
   "metadata": {},
   "outputs": [
    {
     "ename": "ArgumentError",
     "evalue": "\u001b[91mArgumentError: Package JLD not found in current path:\u001b[39m\n\u001b[91m- Run `import Pkg; Pkg.add(\"JLD\")` to install the JLD package.\u001b[39m\n",
     "output_type": "error",
     "traceback": [
      "\u001b[91mArgumentError: Package JLD not found in current path:\u001b[39m\n\u001b[91m- Run `import Pkg; Pkg.add(\"JLD\")` to install the JLD package.\u001b[39m\n",
      "",
      "Stacktrace:",
      " [1] require(::Module, ::Symbol) at .\\loading.jl:823",
      " [2] top-level scope at In[33]:1"
     ]
    }
   ],
   "source": [
    "using JLD"
   ]
  },
  {
   "cell_type": "code",
   "execution_count": 40,
   "metadata": {},
   "outputs": [
    {
     "ename": "ArgumentError",
     "evalue": "\u001b[91mArgumentError: Package FileIO not found in current path:\u001b[39m\n\u001b[91m- Run `import Pkg; Pkg.add(\"FileIO\")` to install the FileIO package.\u001b[39m\n",
     "output_type": "error",
     "traceback": [
      "\u001b[91mArgumentError: Package FileIO not found in current path:\u001b[39m\n\u001b[91m- Run `import Pkg; Pkg.add(\"FileIO\")` to install the FileIO package.\u001b[39m\n",
      "",
      "Stacktrace:",
      " [1] require(::Module, ::Symbol) at .\\loading.jl:823",
      " [2] top-level scope at In[40]:1"
     ]
    }
   ],
   "source": [
    "using FileIO"
   ]
  },
  {
   "cell_type": "code",
   "execution_count": 41,
   "metadata": {},
   "outputs": [
    {
     "name": "stdout",
     "output_type": "stream",
     "text": [
      "\u001b[32m\u001b[1m Resolving\u001b[22m\u001b[39m package versions...\n",
      "\u001b[32m\u001b[1m Installed\u001b[22m\u001b[39m Requires ─ v1.1.3\n",
      "\u001b[32m\u001b[1m Installed\u001b[22m\u001b[39m FileIO ─── v1.6.5\n",
      "\u001b[32m\u001b[1m  Updating\u001b[22m\u001b[39m `C:\\Users\\user\\.julia\\environments\\v1.0\\Project.toml`\n",
      " \u001b[90m [5789e2e9]\u001b[39m\u001b[92m + FileIO v1.6.5\u001b[39m\n",
      "\u001b[32m\u001b[1m  Updating\u001b[22m\u001b[39m `C:\\Users\\user\\.julia\\environments\\v1.0\\Manifest.toml`\n",
      " \u001b[90m [5789e2e9]\u001b[39m\u001b[92m + FileIO v1.6.5\u001b[39m\n",
      " \u001b[90m [ae029012]\u001b[39m\u001b[92m + Requires v1.1.3\u001b[39m\n"
     ]
    }
   ],
   "source": [
    "Pkg.add(\"FileIO\");"
   ]
  },
  {
   "cell_type": "code",
   "execution_count": 42,
   "metadata": {},
   "outputs": [
    {
     "name": "stdout",
     "output_type": "stream",
     "text": [
      "\u001b[32m\u001b[1m Resolving\u001b[22m\u001b[39m package versions...\n"
     ]
    },
    {
     "ename": "Pkg.Types.ResolverError",
     "evalue": "\u001b[91mUnsatisfiable requirements detected for package Blosc [a74b3585]:\u001b[39m\n\u001b[91m Blosc [a74b3585] log:\u001b[39m\n\u001b[91m ├─possible versions are: [0.5.1, 0.6.0, 0.7.0] or uninstalled\u001b[39m\n\u001b[91m ├─restricted by julia compatibility requirements to versions: [0.5.1, 0.6.0] or uninstalled\u001b[39m\n\u001b[91m ├─restricted by compatibility requirements with HDF5 [f67ccb44] to versions: 0.5.1\u001b[39m\n\u001b[91m │ └─HDF5 [f67ccb44] log:\u001b[39m\n\u001b[91m │   ├─possible versions are: [0.9.4-0.9.5, 0.10.0-0.10.4, 0.11.0-0.11.1, 0.12.0-0.12.5, 0.13.0-0.13.7, 0.14.0-0.14.3, 0.15.0-0.15.4] or uninstalled\u001b[39m\n\u001b[91m │   ├─restricted by julia compatibility requirements to versions: [0.9.4-0.9.5, 0.10.0-0.10.4, 0.11.0-0.11.1, 0.12.0-0.12.5] or uninstalled\u001b[39m\n\u001b[91m │   └─restricted by compatibility requirements with JLD [4138dd39] to versions: [0.9.4-0.9.5, 0.10.0-0.10.4, 0.11.0-0.11.1, 0.12.0-0.12.5, 0.13.0-0.13.7], leaving only versions: [0.9.4-0.9.5, 0.10.0-0.10.4, 0.11.0-0.11.1, 0.12.0-0.12.5]\u001b[39m\n\u001b[91m │     └─JLD [4138dd39] log:\u001b[39m\n\u001b[91m │       ├─possible versions are: [0.9.0-0.9.2, 0.10.0, 0.11.0-0.11.1, 0.12.0-0.12.2] or uninstalled\u001b[39m\n\u001b[91m │       ├─restricted to versions * by an explicit requirement, leaving only versions [0.9.0-0.9.2, 0.10.0, 0.11.0-0.11.1, 0.12.0-0.12.2]\u001b[39m\n\u001b[91m │       ├─restricted by julia compatibility requirements to versions: [0.9.0-0.9.2, 0.10.0] or uninstalled, leaving only versions: [0.9.0-0.9.2, 0.10.0]\u001b[39m\n\u001b[91m │       └─restricted by compatibility requirements with Compat [34da2185] to versions: [0.9.2, 0.10.0, 0.11.0-0.11.1, 0.12.0-0.12.2] or uninstalled, leaving only versions: [0.9.2, 0.10.0]\u001b[39m\n\u001b[91m │         └─Compat [34da2185] log:\u001b[39m\n\u001b[91m │           ├─possible versions are: [1.0.0-1.0.1, 1.1.0, 1.2.0, 1.3.0, 1.4.0, 1.5.0-1.5.1, 2.0.0, 2.1.0, 2.2.0-2.2.1, 3.0.0, 3.1.0, 3.2.0, 3.3.0-3.3.1, 3.4.0, 3.5.0, 3.6.0, 3.7.0, 3.8.0, 3.9.0-3.9.1, 3.10.0, 3.11.0, 3.12.0, 3.13.0, 3.14.0, 3.15.0, 3.16.0, 3.17.0, 3.18.0, 3.19.0, 3.20.0, 3.21.0, 3.22.0, 3.23.0, 3.24.0, 3.25.0] or uninstalled\u001b[39m\n\u001b[91m │           └─restricted by compatibility requirements with DataFrames [a93c6f00] to versions: [3.17.0, 3.18.0, 3.19.0, 3.20.0, 3.21.0, 3.22.0, 3.23.0, 3.24.0, 3.25.0]\u001b[39m\n\u001b[91m │             └─DataFrames [a93c6f00] log:\u001b[39m\n\u001b[91m │               ├─possible versions are: [0.11.7, 0.12.0, 0.13.0-0.13.1, 0.14.0-0.14.1, 0.15.0-0.15.2, 0.16.0, 0.17.0-0.17.1, 0.18.0-0.18.4, 0.19.0-0.19.4, 0.20.0-0.20.2, 0.21.0-0.21.8, 0.22.0-0.22.6] or uninstalled\u001b[39m\n\u001b[91m │               └─restricted to versions 0.22.6 by an explicit requirement, leaving only versions 0.22.6\u001b[39m\n\u001b[91m └─restricted by compatibility requirements with Compat [34da2185] to versions: [0.6.0, 0.7.0] or uninstalled — no versions left\u001b[39m\n\u001b[91m   └─Compat [34da2185] log: see above\u001b[39m",
     "output_type": "error",
     "traceback": [
      "\u001b[91mUnsatisfiable requirements detected for package Blosc [a74b3585]:\u001b[39m\n\u001b[91m Blosc [a74b3585] log:\u001b[39m\n\u001b[91m ├─possible versions are: [0.5.1, 0.6.0, 0.7.0] or uninstalled\u001b[39m\n\u001b[91m ├─restricted by julia compatibility requirements to versions: [0.5.1, 0.6.0] or uninstalled\u001b[39m\n\u001b[91m ├─restricted by compatibility requirements with HDF5 [f67ccb44] to versions: 0.5.1\u001b[39m\n\u001b[91m │ └─HDF5 [f67ccb44] log:\u001b[39m\n\u001b[91m │   ├─possible versions are: [0.9.4-0.9.5, 0.10.0-0.10.4, 0.11.0-0.11.1, 0.12.0-0.12.5, 0.13.0-0.13.7, 0.14.0-0.14.3, 0.15.0-0.15.4] or uninstalled\u001b[39m\n\u001b[91m │   ├─restricted by julia compatibility requirements to versions: [0.9.4-0.9.5, 0.10.0-0.10.4, 0.11.0-0.11.1, 0.12.0-0.12.5] or uninstalled\u001b[39m\n\u001b[91m │   └─restricted by compatibility requirements with JLD [4138dd39] to versions: [0.9.4-0.9.5, 0.10.0-0.10.4, 0.11.0-0.11.1, 0.12.0-0.12.5, 0.13.0-0.13.7], leaving only versions: [0.9.4-0.9.5, 0.10.0-0.10.4, 0.11.0-0.11.1, 0.12.0-0.12.5]\u001b[39m\n\u001b[91m │     └─JLD [4138dd39] log:\u001b[39m\n\u001b[91m │       ├─possible versions are: [0.9.0-0.9.2, 0.10.0, 0.11.0-0.11.1, 0.12.0-0.12.2] or uninstalled\u001b[39m\n\u001b[91m │       ├─restricted to versions * by an explicit requirement, leaving only versions [0.9.0-0.9.2, 0.10.0, 0.11.0-0.11.1, 0.12.0-0.12.2]\u001b[39m\n\u001b[91m │       ├─restricted by julia compatibility requirements to versions: [0.9.0-0.9.2, 0.10.0] or uninstalled, leaving only versions: [0.9.0-0.9.2, 0.10.0]\u001b[39m\n\u001b[91m │       └─restricted by compatibility requirements with Compat [34da2185] to versions: [0.9.2, 0.10.0, 0.11.0-0.11.1, 0.12.0-0.12.2] or uninstalled, leaving only versions: [0.9.2, 0.10.0]\u001b[39m\n\u001b[91m │         └─Compat [34da2185] log:\u001b[39m\n\u001b[91m │           ├─possible versions are: [1.0.0-1.0.1, 1.1.0, 1.2.0, 1.3.0, 1.4.0, 1.5.0-1.5.1, 2.0.0, 2.1.0, 2.2.0-2.2.1, 3.0.0, 3.1.0, 3.2.0, 3.3.0-3.3.1, 3.4.0, 3.5.0, 3.6.0, 3.7.0, 3.8.0, 3.9.0-3.9.1, 3.10.0, 3.11.0, 3.12.0, 3.13.0, 3.14.0, 3.15.0, 3.16.0, 3.17.0, 3.18.0, 3.19.0, 3.20.0, 3.21.0, 3.22.0, 3.23.0, 3.24.0, 3.25.0] or uninstalled\u001b[39m\n\u001b[91m │           └─restricted by compatibility requirements with DataFrames [a93c6f00] to versions: [3.17.0, 3.18.0, 3.19.0, 3.20.0, 3.21.0, 3.22.0, 3.23.0, 3.24.0, 3.25.0]\u001b[39m\n\u001b[91m │             └─DataFrames [a93c6f00] log:\u001b[39m\n\u001b[91m │               ├─possible versions are: [0.11.7, 0.12.0, 0.13.0-0.13.1, 0.14.0-0.14.1, 0.15.0-0.15.2, 0.16.0, 0.17.0-0.17.1, 0.18.0-0.18.4, 0.19.0-0.19.4, 0.20.0-0.20.2, 0.21.0-0.21.8, 0.22.0-0.22.6] or uninstalled\u001b[39m\n\u001b[91m │               └─restricted to versions 0.22.6 by an explicit requirement, leaving only versions 0.22.6\u001b[39m\n\u001b[91m └─restricted by compatibility requirements with Compat [34da2185] to versions: [0.6.0, 0.7.0] or uninstalled — no versions left\u001b[39m\n\u001b[91m   └─Compat [34da2185] log: see above\u001b[39m",
      "",
      "Stacktrace:",
      " [1] #propagate_constraints!#61(::Bool, ::Function, ::Pkg.GraphType.Graph, ::Set{Int64}) at C:\\cygwin\\home\\Administrator\\buildbot\\worker\\package_win64\\build\\usr\\share\\julia\\stdlib\\v1.0\\Pkg\\src\\GraphType.jl:1007",
      " [2] propagate_constraints! at C:\\cygwin\\home\\Administrator\\buildbot\\worker\\package_win64\\build\\usr\\share\\julia\\stdlib\\v1.0\\Pkg\\src\\GraphType.jl:948 [inlined]",
      " [3] #simplify_graph!#121(::Bool, ::Function, ::Pkg.GraphType.Graph, ::Set{Int64}) at C:\\cygwin\\home\\Administrator\\buildbot\\worker\\package_win64\\build\\usr\\share\\julia\\stdlib\\v1.0\\Pkg\\src\\GraphType.jl:1462",
      " [4] simplify_graph! at C:\\cygwin\\home\\Administrator\\buildbot\\worker\\package_win64\\build\\usr\\share\\julia\\stdlib\\v1.0\\Pkg\\src\\GraphType.jl:1462 [inlined] (repeats 2 times)",
      " [5] resolve_versions!(::Pkg.Types.Context, ::Array{Pkg.Types.PackageSpec,1}, ::Nothing) at C:\\cygwin\\home\\Administrator\\buildbot\\worker\\package_win64\\build\\usr\\share\\julia\\stdlib\\v1.0\\Pkg\\src\\Operations.jl:373",
      " [6] resolve_versions! at C:\\cygwin\\home\\Administrator\\buildbot\\worker\\package_win64\\build\\usr\\share\\julia\\stdlib\\v1.0\\Pkg\\src\\Operations.jl:316 [inlined]",
      " [7] #add_or_develop#62(::Array{Base.UUID,1}, ::Symbol, ::Function, ::Pkg.Types.Context, ::Array{Pkg.Types.PackageSpec,1}) at C:\\cygwin\\home\\Administrator\\buildbot\\worker\\package_win64\\build\\usr\\share\\julia\\stdlib\\v1.0\\Pkg\\src\\Operations.jl:1201",
      " [8] #add_or_develop at .\\none:0 [inlined]",
      " [9] #add_or_develop#15(::Symbol, ::Bool, ::Base.Iterators.Pairs{Union{},Union{},Tuple{},NamedTuple{(),Tuple{}}}, ::Function, ::Pkg.Types.Context, ::Array{Pkg.Types.PackageSpec,1}) at C:\\cygwin\\home\\Administrator\\buildbot\\worker\\package_win64\\build\\usr\\share\\julia\\stdlib\\v1.0\\Pkg\\src\\API.jl:69",
      " [10] #add_or_develop at .\\none:0 [inlined]",
      " [11] #add_or_develop#14 at C:\\cygwin\\home\\Administrator\\buildbot\\worker\\package_win64\\build\\usr\\share\\julia\\stdlib\\v1.0\\Pkg\\src\\API.jl:34 [inlined]",
      " [12] #add_or_develop at .\\none:0 [inlined]",
      " [13] #add_or_develop#11 at C:\\cygwin\\home\\Administrator\\buildbot\\worker\\package_win64\\build\\usr\\share\\julia\\stdlib\\v1.0\\Pkg\\src\\API.jl:33 [inlined]",
      " [14] #add_or_develop at .\\none:0 [inlined]",
      " [15] #add_or_develop#10 at C:\\cygwin\\home\\Administrator\\buildbot\\worker\\package_win64\\build\\usr\\share\\julia\\stdlib\\v1.0\\Pkg\\src\\API.jl:32 [inlined]",
      " [16] #add_or_develop at .\\none:0 [inlined]",
      " [17] #add#20 at C:\\cygwin\\home\\Administrator\\buildbot\\worker\\package_win64\\build\\usr\\share\\julia\\stdlib\\v1.0\\Pkg\\src\\API.jl:74 [inlined]",
      " [18] add(::String) at C:\\cygwin\\home\\Administrator\\buildbot\\worker\\package_win64\\build\\usr\\share\\julia\\stdlib\\v1.0\\Pkg\\src\\API.jl:74",
      " [19] top-level scope at In[42]:1"
     ]
    }
   ],
   "source": [
    "Pkg.add(\"JLD\")"
   ]
  },
  {
   "cell_type": "code",
   "execution_count": 36,
   "metadata": {},
   "outputs": [
    {
     "ename": "UndefVarError",
     "evalue": "\u001b[91mUndefVarError: JLD not defined\u001b[39m",
     "output_type": "error",
     "traceback": [
      "\u001b[91mUndefVarError: JLD not defined\u001b[39m",
      "",
      "Stacktrace:",
      " [1] top-level scope at In[36]:1"
     ]
    }
   ],
   "source": [
    "jld_data = JLD.load(\"C:/Users/user/DataScience-main/data/mytempdata.jld\")"
   ]
  },
  {
   "cell_type": "markdown",
   "metadata": {},
   "source": [
    "### JLD는 안되고...\n",
    "### NPZ 시도 "
   ]
  },
  {
   "cell_type": "code",
   "execution_count": 43,
   "metadata": {},
   "outputs": [
    {
     "ename": "ArgumentError",
     "evalue": "\u001b[91mArgumentError: Package NPZ not found in current path:\u001b[39m\n\u001b[91m- Run `import Pkg; Pkg.add(\"NPZ\")` to install the NPZ package.\u001b[39m\n",
     "output_type": "error",
     "traceback": [
      "\u001b[91mArgumentError: Package NPZ not found in current path:\u001b[39m\n\u001b[91m- Run `import Pkg; Pkg.add(\"NPZ\")` to install the NPZ package.\u001b[39m\n",
      "",
      "Stacktrace:",
      " [1] require(::Module, ::Symbol) at .\\loading.jl:823",
      " [2] top-level scope at In[43]:1"
     ]
    }
   ],
   "source": [
    "using NPZ\n",
    "npz_data = npzread(\"DataScience-main/data/mytempdata.npz\")\n",
    "npzwrite(\"mywrite.npz\", npz_data)"
   ]
  },
  {
   "cell_type": "code",
   "execution_count": 44,
   "metadata": {},
   "outputs": [
    {
     "name": "stdout",
     "output_type": "stream",
     "text": [
      "\u001b[32m\u001b[1m Resolving\u001b[22m\u001b[39m package versions...\n",
      "\u001b[32m\u001b[1m Installed\u001b[22m\u001b[39m NPZ ─ v0.4.1\n",
      "\u001b[32m\u001b[1m  Updating\u001b[22m\u001b[39m `C:\\Users\\user\\.julia\\environments\\v1.0\\Project.toml`\n",
      " \u001b[90m [15e1cf62]\u001b[39m\u001b[92m + NPZ v0.4.1\u001b[39m\n",
      "\u001b[32m\u001b[1m  Updating\u001b[22m\u001b[39m `C:\\Users\\user\\.julia\\environments\\v1.0\\Manifest.toml`\n",
      " \u001b[90m [15e1cf62]\u001b[39m\u001b[92m + NPZ v0.4.1\u001b[39m\n"
     ]
    }
   ],
   "source": [
    "Pkg.add(\"NPZ\")"
   ]
  },
  {
   "cell_type": "code",
   "execution_count": 46,
   "metadata": {},
   "outputs": [
    {
     "name": "stderr",
     "output_type": "stream",
     "text": [
      "┌ Info: Precompiling NPZ [15e1cf62-19b3-5cfa-8e77-841668bca605]\n",
      "└ @ Base loading.jl:1192\n"
     ]
    },
    {
     "ename": "SystemError",
     "evalue": "\u001b[91mSystemError: opening file /DataScience-main/data/mytempdata.npz: No such file or directory\u001b[39m",
     "output_type": "error",
     "traceback": [
      "\u001b[91mSystemError: opening file /DataScience-main/data/mytempdata.npz: No such file or directory\u001b[39m",
      "",
      "Stacktrace:",
      " [1] #systemerror#39(::Nothing, ::Function, ::String, ::Bool) at .\\error.jl:106",
      " [2] systemerror at .\\error.jl:106 [inlined]",
      " [3] #open#295(::Nothing, ::Nothing, ::Nothing, ::Nothing, ::Nothing, ::Function, ::String) at .\\iostream.jl:283",
      " [4] open at .\\iostream.jl:275 [inlined]",
      " [5] npzread(::String) at C:\\Users\\user\\.julia\\packages\\NPZ\\UizJj\\src\\NPZ.jl:290",
      " [6] top-level scope at In[46]:2"
     ]
    }
   ],
   "source": [
    "using NPZ"
   ]
  },
  {
   "cell_type": "code",
   "execution_count": 47,
   "metadata": {},
   "outputs": [],
   "source": [
    "npz_data = npzread(\"DataScience-main/data/mytempdata.npz\")\n",
    "npzwrite(\"mywrite.npz\", npz_data)"
   ]
  },
  {
   "cell_type": "markdown",
   "metadata": {},
   "source": [
    "### Rdata 불러오기 "
   ]
  },
  {
   "cell_type": "code",
   "execution_count": 48,
   "metadata": {},
   "outputs": [
    {
     "ename": "ArgumentError",
     "evalue": "\u001b[91mArgumentError: Package RData not found in current path:\u001b[39m\n\u001b[91m- Run `import Pkg; Pkg.add(\"RData\")` to install the RData package.\u001b[39m\n",
     "output_type": "error",
     "traceback": [
      "\u001b[91mArgumentError: Package RData not found in current path:\u001b[39m\n\u001b[91m- Run `import Pkg; Pkg.add(\"RData\")` to install the RData package.\u001b[39m\n",
      "",
      "Stacktrace:",
      " [1] require(::Module, ::Symbol) at .\\loading.jl:823",
      " [2] top-level scope at In[48]:1"
     ]
    }
   ],
   "source": [
    "using RData\n",
    "R_data = RData.load(\"DataScience-main/data/mytempdata.rda\")\n",
    "# We'll need RCall to save here. https://github.com/JuliaData/RData.jl/issues/56\n"
   ]
  },
  {
   "cell_type": "code",
   "execution_count": 49,
   "metadata": {},
   "outputs": [
    {
     "name": "stdout",
     "output_type": "stream",
     "text": [
      "\u001b[32m\u001b[1m Resolving\u001b[22m\u001b[39m package versions...\n",
      "\u001b[32m\u001b[1m Installed\u001b[22m\u001b[39m Mocking ──────────── v0.7.1\n",
      "\u001b[32m\u001b[1m Installed\u001b[22m\u001b[39m ExprTools ────────── v0.1.3\n",
      "\u001b[32m\u001b[1m Installed\u001b[22m\u001b[39m CodecZlib ────────── v0.6.0\n",
      "\u001b[32m\u001b[1m Installed\u001b[22m\u001b[39m RecipesBase ──────── v1.1.1\n",
      "\u001b[32m\u001b[1m Installed\u001b[22m\u001b[39m RData ────────────── v0.8.0\n",
      "\u001b[32m\u001b[1m Installed\u001b[22m\u001b[39m TranscodingStreams ─ v0.9.5\n",
      "\u001b[32m\u001b[1m Installed\u001b[22m\u001b[39m TimeZones ────────── v1.5.3\n",
      "\u001b[32m\u001b[1m  Updating\u001b[22m\u001b[39m `C:\\Users\\user\\.julia\\environments\\v1.0\\Project.toml`\n",
      " \u001b[90m [df47a6cb]\u001b[39m\u001b[92m + RData v0.8.0\u001b[39m\n",
      "\u001b[32m\u001b[1m  Updating\u001b[22m\u001b[39m `C:\\Users\\user\\.julia\\environments\\v1.0\\Manifest.toml`\n",
      " \u001b[90m [944b1d66]\u001b[39m\u001b[92m + CodecZlib v0.6.0\u001b[39m\n",
      " \u001b[90m [e2ba6199]\u001b[39m\u001b[92m + ExprTools v0.1.3\u001b[39m\n",
      " \u001b[90m [78c3b35d]\u001b[39m\u001b[92m + Mocking v0.7.1\u001b[39m\n",
      " \u001b[90m [df47a6cb]\u001b[39m\u001b[92m + RData v0.8.0\u001b[39m\n",
      " \u001b[90m [3cdcf5f2]\u001b[39m\u001b[92m + RecipesBase v1.1.1\u001b[39m\n",
      " \u001b[90m [f269a46b]\u001b[39m\u001b[92m + TimeZones v1.5.3\u001b[39m\n",
      " \u001b[90m [3bb67fe8]\u001b[39m\u001b[92m + TranscodingStreams v0.9.5\u001b[39m\n",
      "\u001b[32m\u001b[1m  Building\u001b[22m\u001b[39m TimeZones → `C:\\Users\\user\\.julia\\packages\\TimeZones\\K98G0\\deps\\build.log`\n",
      "\u001b[32m\u001b[1m  Building\u001b[22m\u001b[39m CodecZlib → `C:\\Users\\user\\.julia\\packages\\CodecZlib\\5t9zO\\deps\\build.log`\n"
     ]
    }
   ],
   "source": [
    "Pkg.add(\"RData\")"
   ]
  },
  {
   "cell_type": "code",
   "execution_count": 50,
   "metadata": {},
   "outputs": [
    {
     "name": "stderr",
     "output_type": "stream",
     "text": [
      "┌ Info: Precompiling RData [df47a6cb-8c03-5eed-afd8-b6050d6c41da]\n",
      "└ @ Base loading.jl:1192\n"
     ]
    },
    {
     "data": {
      "text/plain": [
       "Dict{String,Any} with 1 entry:\n",
       "  \"tempdata\" => Int32[2 1446 … 1795 1890; 3 2926 … 3220 3405; 4 2910 … 2937 322…"
      ]
     },
     "execution_count": 50,
     "metadata": {},
     "output_type": "execute_result"
    }
   ],
   "source": [
    "using RData\n",
    "R_data = RData.load(\"DataScience-main/data/mytempdata.rda\")"
   ]
  },
  {
   "cell_type": "code",
   "execution_count": 51,
   "metadata": {},
   "outputs": [
    {
     "data": {
      "text/plain": [
       "Dict{String,Any}"
      ]
     },
     "execution_count": 51,
     "metadata": {},
     "output_type": "execute_result"
    }
   ],
   "source": [
    "typeof(R_data)"
   ]
  },
  {
   "cell_type": "code",
   "execution_count": 53,
   "metadata": {},
   "outputs": [
    {
     "name": "stdout",
     "output_type": "stream",
     "text": [
      "Dict{String,Any}(\"tempdata\"=>Int32[2 1446 1705 1795 1890; 3 2926 3121 3220 3405; 4 2910 3022 2937 3224; 5 1479 1529 1582 1761])"
     ]
    }
   ],
   "source": [
    "print(R_data)"
   ]
  },
  {
   "cell_type": "code",
   "execution_count": 54,
   "metadata": {},
   "outputs": [
    {
     "ename": "ArgumentError",
     "evalue": "\u001b[91mArgumentError: Package RCall not found in current path:\u001b[39m\n\u001b[91m- Run `import Pkg; Pkg.add(\"RCall\")` to install the RCall package.\u001b[39m\n",
     "output_type": "error",
     "traceback": [
      "\u001b[91mArgumentError: Package RCall not found in current path:\u001b[39m\n\u001b[91m- Run `import Pkg; Pkg.add(\"RCall\")` to install the RCall package.\u001b[39m\n",
      "",
      "Stacktrace:",
      " [1] require(::Module, ::Symbol) at .\\loading.jl:823",
      " [2] top-level scope at In[54]:1"
     ]
    }
   ],
   "source": [
    "using RCall\n",
    "@rput R_data\n",
    "R\"save(R_data, file=\\\"mywrite.rda\\\")\""
   ]
  },
  {
   "cell_type": "code",
   "execution_count": 55,
   "metadata": {},
   "outputs": [
    {
     "name": "stdout",
     "output_type": "stream",
     "text": [
      "\u001b[32m\u001b[1m Resolving\u001b[22m\u001b[39m package versions...\n",
      "\u001b[32m\u001b[1m Installed\u001b[22m\u001b[39m Rmath ──────────── v0.6.0\n",
      "\u001b[32m\u001b[1m Installed\u001b[22m\u001b[39m StatsFuns ──────── v0.9.6\n",
      "\u001b[32m\u001b[1m Installed\u001b[22m\u001b[39m SpecialFunctions ─ v0.8.0\n",
      "\u001b[32m\u001b[1m Installed\u001b[22m\u001b[39m BinDeps ────────── v1.0.2\n",
      "\u001b[32m\u001b[1m Installed\u001b[22m\u001b[39m StatsBase ──────── v0.33.4\n",
      "\u001b[32m\u001b[1m Installed\u001b[22m\u001b[39m StatsModels ────── v0.6.21\n",
      "\u001b[32m\u001b[1m Installed\u001b[22m\u001b[39m ShiftedArrays ──── v1.0.0\n",
      "\u001b[32m\u001b[1m Installed\u001b[22m\u001b[39m RCall ──────────── v0.13.10\n",
      "\u001b[32m\u001b[1m Installed\u001b[22m\u001b[39m WinReg ─────────── v0.3.1\n",
      "\u001b[32m\u001b[1m Installed\u001b[22m\u001b[39m URIParser ──────── v0.4.1\n",
      "\u001b[32m\u001b[1m  Updating\u001b[22m\u001b[39m `C:\\Users\\user\\.julia\\environments\\v1.0\\Project.toml`\n",
      " \u001b[90m [6f49c342]\u001b[39m\u001b[92m + RCall v0.13.10\u001b[39m\n",
      "\u001b[32m\u001b[1m  Updating\u001b[22m\u001b[39m `C:\\Users\\user\\.julia\\environments\\v1.0\\Manifest.toml`\n",
      " \u001b[90m [9e28174c]\u001b[39m\u001b[92m + BinDeps v1.0.2\u001b[39m\n",
      " \u001b[90m [6f49c342]\u001b[39m\u001b[92m + RCall v0.13.10\u001b[39m\n",
      " \u001b[90m [79098fc4]\u001b[39m\u001b[92m + Rmath v0.6.0\u001b[39m\n",
      " \u001b[90m [1277b4bf]\u001b[39m\u001b[92m + ShiftedArrays v1.0.0\u001b[39m\n",
      " \u001b[90m [276daf66]\u001b[39m\u001b[92m + SpecialFunctions v0.8.0\u001b[39m\n",
      " \u001b[90m [2913bbd2]\u001b[39m\u001b[92m + StatsBase v0.33.4\u001b[39m\n",
      " \u001b[90m [4c63d2b9]\u001b[39m\u001b[92m + StatsFuns v0.9.6\u001b[39m\n",
      " \u001b[90m [3eaba693]\u001b[39m\u001b[92m + StatsModels v0.6.21\u001b[39m\n",
      " \u001b[90m [30578b45]\u001b[39m\u001b[92m + URIParser v0.4.1\u001b[39m\n",
      " \u001b[90m [1b915085]\u001b[39m\u001b[92m + WinReg v0.3.1\u001b[39m\n",
      "\u001b[32m\u001b[1m  Building\u001b[22m\u001b[39m SpecialFunctions → `C:\\Users\\user\\.julia\\packages\\SpecialFunctions\\ne2iw\\deps\\build.log`\n",
      "\u001b[32m\u001b[1m  Building\u001b[22m\u001b[39m Rmath ───────────→ `C:\\Users\\user\\.julia\\packages\\Rmath\\BoBag\\deps\\build.log`\n",
      "\u001b[32m\u001b[1m  Building\u001b[22m\u001b[39m RCall ───────────→ `C:\\Users\\user\\.julia\\packages\\RCall\\eRsxl\\deps\\build.log`\n"
     ]
    }
   ],
   "source": [
    "Pkg.add(\"RCall\")"
   ]
  },
  {
   "cell_type": "code",
   "execution_count": 57,
   "metadata": {},
   "outputs": [
    {
     "name": "stderr",
     "output_type": "stream",
     "text": [
      "┌ Info: Precompiling RCall [6f49c342-dc21-5d91-9882-a32aef131414]\n",
      "└ @ Base loading.jl:1192\n"
     ]
    },
    {
     "data": {
      "text/plain": [
       "RObject{NilSxp}\n",
       "NULL\n"
      ]
     },
     "execution_count": 57,
     "metadata": {},
     "output_type": "execute_result"
    }
   ],
   "source": [
    "using RCall\n",
    "@rput R_data\n",
    "R\"save(R_data, file=\\\"mywrite.rda\\\")\""
   ]
  },
  {
   "cell_type": "code",
   "execution_count": 58,
   "metadata": {},
   "outputs": [
    {
     "name": "stdout",
     "output_type": "stream",
     "text": [
      "typeof(R_data) = Dict{String,Any}\n"
     ]
    },
    {
     "data": {
      "text/plain": [
       "Dict{String,Any}"
      ]
     },
     "execution_count": 58,
     "metadata": {},
     "output_type": "execute_result"
    }
   ],
   "source": [
    "@show typeof(R_data)"
   ]
  },
  {
   "cell_type": "code",
   "execution_count": 59,
   "metadata": {},
   "outputs": [
    {
     "name": "stdout",
     "output_type": "stream",
     "text": [
      "typeof(npz_data) = Array{Int64,2}\n"
     ]
    },
    {
     "data": {
      "text/plain": [
       "Array{Int64,2}"
      ]
     },
     "execution_count": 59,
     "metadata": {},
     "output_type": "execute_result"
    }
   ],
   "source": [
    "@show typeof(npz_data)"
   ]
  },
  {
   "cell_type": "markdown",
   "metadata": {},
   "source": [
    "### 줄리아에서 시간 다루기"
   ]
  },
  {
   "cell_type": "code",
   "execution_count": 60,
   "metadata": {},
   "outputs": [
    {
     "data": {
      "text/plain": [
       "73×2 Array{Any,2}:\n",
       " 1951  \"Regional Assembly Language\"\n",
       " 1952  \"Autocode\"                  \n",
       " 1954  \"IPL\"                       \n",
       " 1955  \"FLOW-MATIC\"                \n",
       " 1957  \"FORTRAN\"                   \n",
       " 1957  \"COMTRAN\"                   \n",
       " 1958  \"LISP\"                      \n",
       " 1958  \"ALGOL 58\"                  \n",
       " 1959  \"FACT\"                      \n",
       " 1959  \"COBOL\"                     \n",
       " 1959  \"RPG\"                       \n",
       " 1962  \"APL\"                       \n",
       " 1962  \"Simula\"                    \n",
       "    ⋮                              \n",
       " 2003  \"Scala\"                     \n",
       " 2005  \"F#\"                        \n",
       " 2006  \"PowerShell\"                \n",
       " 2007  \"Clojure\"                   \n",
       " 2009  \"Go\"                        \n",
       " 2010  \"Rust\"                      \n",
       " 2011  \"Dart\"                      \n",
       " 2011  \"Kotlin\"                    \n",
       " 2011  \"Red\"                       \n",
       " 2011  \"Elixir\"                    \n",
       " 2012  \"Julia\"                     \n",
       " 2014  \"Swift\"                     "
      ]
     },
     "execution_count": 60,
     "metadata": {},
     "output_type": "execute_result"
    }
   ],
   "source": [
    "P"
   ]
  },
  {
   "cell_type": "code",
   "execution_count": 61,
   "metadata": {},
   "outputs": [
    {
     "data": {
      "text/plain": [
       "2012"
      ]
     },
     "execution_count": 61,
     "metadata": {},
     "output_type": "execute_result"
    }
   ],
   "source": [
    "# Q1: Which year was was a given language invented?\n",
    "function year_created(P, language::String)\n",
    "    loc = findfirst(P[:,2] .== language)\n",
    "    return P[loc,1]\n",
    "end\n",
    "year_created(P,\"Julia\")"
   ]
  },
  {
   "cell_type": "code",
   "execution_count": 62,
   "metadata": {},
   "outputs": [
    {
     "ename": "ArgumentError",
     "evalue": "\u001b[91mArgumentError: `nothing` should not be printed; use `show`, `repr`, or custom output instead.\u001b[39m",
     "output_type": "error",
     "traceback": [
      "\u001b[91mArgumentError: `nothing` should not be printed; use `show`, `repr`, or custom output instead.\u001b[39m",
      "",
      "Stacktrace:",
      " [1] print(::Base.GenericIOBuffer{Array{UInt8,1}}, ::Nothing) at .\\show.jl:566",
      " [2] print_to_string(::String, ::Vararg{Any,N} where N) at .\\strings\\io.jl:122",
      " [3] string at .\\strings\\io.jl:155 [inlined]",
      " [4] to_index(::Nothing) at .\\indices.jl:266",
      " [5] to_index(::Array{Any,2}, ::Nothing) at .\\indices.jl:247",
      " [6] to_indices at .\\indices.jl:294 [inlined]",
      " [7] to_indices at .\\indices.jl:290 [inlined]",
      " [8] getindex(::Array{Any,2}, ::Nothing, ::Int64) at .\\abstractarray.jl:905",
      " [9] year_created(::Array{Any,2}, ::String) at .\\In[61]:4",
      " [10] top-level scope at In[62]:1"
     ]
    }
   ],
   "source": [
    "year_created(P,\"W\")"
   ]
  },
  {
   "cell_type": "code",
   "execution_count": 84,
   "metadata": {},
   "outputs": [
    {
     "data": {
      "text/plain": [
       "year_created_handle_error (generic function with 1 method)"
      ]
     },
     "execution_count": 84,
     "metadata": {},
     "output_type": "execute_result"
    }
   ],
   "source": [
    "isnothing(::Any) = false\n",
    "isnothing(::Nothing) = true\n",
    "\n",
    "function year_created_handle_error(P,language::String)\n",
    "    loc = findfirst(P[:,2] .== language)\n",
    "    !isnothing(loc) && return P[loc,1]\n",
    "    error(\"Error: Language not found.\")\n",
    "end\n"
   ]
  },
  {
   "cell_type": "code",
   "execution_count": 85,
   "metadata": {},
   "outputs": [
    {
     "ename": "ErrorException",
     "evalue": "\u001b[91mError: Language not found.\u001b[39m",
     "output_type": "error",
     "traceback": [
      "\u001b[91mError: Language not found.\u001b[39m",
      "",
      "Stacktrace:",
      " [1] error(::String) at .\\error.jl:33",
      " [2] year_created_handle_error(::Array{Any,2}, ::String) at .\\In[84]:7",
      " [3] top-level scope at In[85]:1"
     ]
    }
   ],
   "source": [
    "year_created_handle_error(P,\"W\")"
   ]
  },
  {
   "cell_type": "code",
   "execution_count": 86,
   "metadata": {},
   "outputs": [
    {
     "data": {
      "text/plain": [
       "4"
      ]
     },
     "execution_count": 86,
     "metadata": {},
     "output_type": "execute_result"
    }
   ],
   "source": [
    "# Q2: How many languages were created in a given year?\n",
    "function how_many_per_year(P,year::Int64)\n",
    "    year_count = length(findall(P[:,1].==year))\n",
    "    return year_count\n",
    "end\n",
    "how_many_per_year(P,2011)"
   ]
  },
  {
   "cell_type": "code",
   "execution_count": 87,
   "metadata": {},
   "outputs": [
    {
     "data": {
      "text/html": [
       "<table class=\"data-frame\"><thead><tr><th></th><th>year</th><th>language</th></tr><tr><th></th><th>Int64</th><th>String</th></tr></thead><tbody><p>73 rows × 2 columns</p><tr><th>1</th><td>1951</td><td>Regional Assembly Language</td></tr><tr><th>2</th><td>1952</td><td>Autocode</td></tr><tr><th>3</th><td>1954</td><td>IPL</td></tr><tr><th>4</th><td>1955</td><td>FLOW-MATIC</td></tr><tr><th>5</th><td>1957</td><td>FORTRAN</td></tr><tr><th>6</th><td>1957</td><td>COMTRAN</td></tr><tr><th>7</th><td>1958</td><td>LISP</td></tr><tr><th>8</th><td>1958</td><td>ALGOL 58</td></tr><tr><th>9</th><td>1959</td><td>FACT</td></tr><tr><th>10</th><td>1959</td><td>COBOL</td></tr><tr><th>11</th><td>1959</td><td>RPG</td></tr><tr><th>12</th><td>1962</td><td>APL</td></tr><tr><th>13</th><td>1962</td><td>Simula</td></tr><tr><th>14</th><td>1962</td><td>SNOBOL</td></tr><tr><th>15</th><td>1963</td><td>CPL</td></tr><tr><th>16</th><td>1964</td><td>Speakeasy</td></tr><tr><th>17</th><td>1964</td><td>BASIC</td></tr><tr><th>18</th><td>1964</td><td>PL/I</td></tr><tr><th>19</th><td>1966</td><td>JOSS</td></tr><tr><th>20</th><td>1967</td><td>BCPL</td></tr><tr><th>21</th><td>1968</td><td>Logo</td></tr><tr><th>22</th><td>1969</td><td>B</td></tr><tr><th>23</th><td>1970</td><td>Pascal</td></tr><tr><th>24</th><td>1970</td><td>Forth</td></tr><tr><th>25</th><td>1972</td><td>C</td></tr><tr><th>26</th><td>1972</td><td>Smalltalk</td></tr><tr><th>27</th><td>1972</td><td>Prolog</td></tr><tr><th>28</th><td>1973</td><td>ML</td></tr><tr><th>29</th><td>1975</td><td>Scheme</td></tr><tr><th>30</th><td>1978</td><td>SQL </td></tr><tr><th>&vellip;</th><td>&vellip;</td><td>&vellip;</td></tr></tbody></table>"
      ],
      "text/latex": [
       "\\begin{tabular}{r|cc}\n",
       "\t& year & language\\\\\n",
       "\t\\hline\n",
       "\t& Int64 & String\\\\\n",
       "\t\\hline\n",
       "\t1 & 1951 & Regional Assembly Language \\\\\n",
       "\t2 & 1952 & Autocode \\\\\n",
       "\t3 & 1954 & IPL \\\\\n",
       "\t4 & 1955 & FLOW-MATIC \\\\\n",
       "\t5 & 1957 & FORTRAN \\\\\n",
       "\t6 & 1957 & COMTRAN \\\\\n",
       "\t7 & 1958 & LISP \\\\\n",
       "\t8 & 1958 & ALGOL 58 \\\\\n",
       "\t9 & 1959 & FACT \\\\\n",
       "\t10 & 1959 & COBOL \\\\\n",
       "\t11 & 1959 & RPG \\\\\n",
       "\t12 & 1962 & APL \\\\\n",
       "\t13 & 1962 & Simula \\\\\n",
       "\t14 & 1962 & SNOBOL \\\\\n",
       "\t15 & 1963 & CPL \\\\\n",
       "\t16 & 1964 & Speakeasy \\\\\n",
       "\t17 & 1964 & BASIC \\\\\n",
       "\t18 & 1964 & PL/I \\\\\n",
       "\t19 & 1966 & JOSS \\\\\n",
       "\t20 & 1967 & BCPL \\\\\n",
       "\t21 & 1968 & Logo \\\\\n",
       "\t22 & 1969 & B \\\\\n",
       "\t23 & 1970 & Pascal \\\\\n",
       "\t24 & 1970 & Forth \\\\\n",
       "\t25 & 1972 & C \\\\\n",
       "\t26 & 1972 & Smalltalk \\\\\n",
       "\t27 & 1972 & Prolog \\\\\n",
       "\t28 & 1973 & ML \\\\\n",
       "\t29 & 1975 & Scheme \\\\\n",
       "\t30 & 1978 & SQL  \\\\\n",
       "\t$\\dots$ & $\\dots$ & $\\dots$ \\\\\n",
       "\\end{tabular}\n"
      ],
      "text/plain": [
       "\u001b[1m73×2 DataFrame\u001b[0m\n",
       "\u001b[1m Row \u001b[0m│\u001b[1m year  \u001b[0m\u001b[1m language                   \u001b[0m\n",
       "\u001b[1m     \u001b[0m│\u001b[90m Int64 \u001b[0m\u001b[90m String                     \u001b[0m\n",
       "─────┼───────────────────────────────────\n",
       "   1 │  1951  Regional Assembly Language\n",
       "   2 │  1952  Autocode\n",
       "   3 │  1954  IPL\n",
       "   4 │  1955  FLOW-MATIC\n",
       "   5 │  1957  FORTRAN\n",
       "   6 │  1957  COMTRAN\n",
       "   7 │  1958  LISP\n",
       "   8 │  1958  ALGOL 58\n",
       "   9 │  1959  FACT\n",
       "  10 │  1959  COBOL\n",
       "  11 │  1959  RPG\n",
       "  ⋮  │   ⋮                ⋮\n",
       "  64 │  2006  PowerShell\n",
       "  65 │  2007  Clojure\n",
       "  66 │  2009  Go\n",
       "  67 │  2010  Rust\n",
       "  68 │  2011  Dart\n",
       "  69 │  2011  Kotlin\n",
       "  70 │  2011  Red\n",
       "  71 │  2011  Elixir\n",
       "  72 │  2012  Julia\n",
       "  73 │  2014  Swift\n",
       "\u001b[36m                          52 rows omitted\u001b[0m"
      ]
     },
     "execution_count": 87,
     "metadata": {},
     "output_type": "execute_result"
    }
   ],
   "source": [
    "P_df = C #DataFrame(year = P[:,1], language = P[:,2]) # or DataFrame(P)"
   ]
  },
  {
   "cell_type": "code",
   "execution_count": 88,
   "metadata": {},
   "outputs": [
    {
     "data": {
      "text/plain": [
       "2012"
      ]
     },
     "execution_count": 88,
     "metadata": {},
     "output_type": "execute_result"
    }
   ],
   "source": [
    "# Q1: Which year was was a given language invented?\n",
    "# it's a little more intuitive and you don't need to remember the column ids\n",
    "function year_created(P_df,language::String)\n",
    "    loc = findfirst(P_df.language .== language)\n",
    "    return P_df.year[loc]\n",
    "end\n",
    "year_created(P_df,\"Julia\")"
   ]
  },
  {
   "cell_type": "code",
   "execution_count": 89,
   "metadata": {},
   "outputs": [
    {
     "ename": "ErrorException",
     "evalue": "\u001b[91mError: Language not found.\u001b[39m",
     "output_type": "error",
     "traceback": [
      "\u001b[91mError: Language not found.\u001b[39m",
      "",
      "Stacktrace:",
      " [1] error(::String) at .\\error.jl:33",
      " [2] year_created_handle_error(::DataFrame, ::String) at .\\In[89]:4",
      " [3] top-level scope at In[89]:6"
     ]
    }
   ],
   "source": [
    "function year_created_handle_error(P_df,language::String)\n",
    "    loc = findfirst(P_df.language .== language)\n",
    "    !isnothing(loc) && return P_df.year[loc]\n",
    "    error(\"Error: Language not found.\")\n",
    "end\n",
    "year_created_handle_error(P_df,\"W\")"
   ]
  },
  {
   "cell_type": "code",
   "execution_count": 90,
   "metadata": {},
   "outputs": [
    {
     "data": {
      "text/plain": [
       "4"
      ]
     },
     "execution_count": 90,
     "metadata": {},
     "output_type": "execute_result"
    }
   ],
   "source": [
    "# Q2: How many languages were created in a given year?\n",
    "function how_many_per_year(P_df,year::Int64)\n",
    "    year_count = length(findall(P_df.year.==year))\n",
    "    return year_count\n",
    "end\n",
    "how_many_per_year(P_df,2011)"
   ]
  },
  {
   "cell_type": "markdown",
   "metadata": {},
   "source": [
    "### missing data\n",
    "\n",
    "- Julia provides support for representing missing values in the statistical sense, that is for situations where no value is available for a variable in an observation, but a valid value theoretically exists. Missing values are represented via the missing object, which is the singleton instance of the type Missing. missing is equivalent to NULL in SQL and NA in R, and behaves like them in most situations.\n",
    "\n",
    "- 줄리아는 결측치에 대해 R에서 NA를 사용하듯 missing 이라는 오브젝트를 사용함\n",
    "\n",
    "- https://docs.julialang.org/en/v1/manual/missing/"
   ]
  },
  {
   "cell_type": "code",
   "execution_count": 91,
   "metadata": {},
   "outputs": [
    {
     "data": {
      "text/html": [
       "<table class=\"data-frame\"><thead><tr><th></th><th>year</th><th>language</th></tr><tr><th></th><th>Any</th><th>Any</th></tr></thead><tbody><p>73 rows × 2 columns</p><tr><th>1</th><td><em>missing</em></td><td>Regional Assembly Language</td></tr><tr><th>2</th><td>1952</td><td>Autocode</td></tr><tr><th>3</th><td>1954</td><td>IPL</td></tr><tr><th>4</th><td>1955</td><td>FLOW-MATIC</td></tr><tr><th>5</th><td>1957</td><td>FORTRAN</td></tr><tr><th>6</th><td>1957</td><td>COMTRAN</td></tr><tr><th>7</th><td>1958</td><td>LISP</td></tr><tr><th>8</th><td>1958</td><td>ALGOL 58</td></tr><tr><th>9</th><td>1959</td><td>FACT</td></tr><tr><th>10</th><td>1959</td><td>COBOL</td></tr><tr><th>11</th><td>1959</td><td>RPG</td></tr><tr><th>12</th><td>1962</td><td>APL</td></tr><tr><th>13</th><td>1962</td><td>Simula</td></tr><tr><th>14</th><td>1962</td><td>SNOBOL</td></tr><tr><th>15</th><td>1963</td><td>CPL</td></tr><tr><th>16</th><td>1964</td><td>Speakeasy</td></tr><tr><th>17</th><td>1964</td><td>BASIC</td></tr><tr><th>18</th><td>1964</td><td>PL/I</td></tr><tr><th>19</th><td>1966</td><td>JOSS</td></tr><tr><th>20</th><td>1967</td><td>BCPL</td></tr><tr><th>21</th><td>1968</td><td>Logo</td></tr><tr><th>22</th><td>1969</td><td>B</td></tr><tr><th>23</th><td>1970</td><td>Pascal</td></tr><tr><th>24</th><td>1970</td><td>Forth</td></tr><tr><th>25</th><td>1972</td><td>C</td></tr><tr><th>26</th><td>1972</td><td>Smalltalk</td></tr><tr><th>27</th><td>1972</td><td>Prolog</td></tr><tr><th>28</th><td>1973</td><td>ML</td></tr><tr><th>29</th><td>1975</td><td>Scheme</td></tr><tr><th>30</th><td>1978</td><td>SQL </td></tr><tr><th>&vellip;</th><td>&vellip;</td><td>&vellip;</td></tr></tbody></table>"
      ],
      "text/latex": [
       "\\begin{tabular}{r|cc}\n",
       "\t& year & language\\\\\n",
       "\t\\hline\n",
       "\t& Any & Any\\\\\n",
       "\t\\hline\n",
       "\t1 & \\emph{missing} & Regional Assembly Language \\\\\n",
       "\t2 & 1952 & Autocode \\\\\n",
       "\t3 & 1954 & IPL \\\\\n",
       "\t4 & 1955 & FLOW-MATIC \\\\\n",
       "\t5 & 1957 & FORTRAN \\\\\n",
       "\t6 & 1957 & COMTRAN \\\\\n",
       "\t7 & 1958 & LISP \\\\\n",
       "\t8 & 1958 & ALGOL 58 \\\\\n",
       "\t9 & 1959 & FACT \\\\\n",
       "\t10 & 1959 & COBOL \\\\\n",
       "\t11 & 1959 & RPG \\\\\n",
       "\t12 & 1962 & APL \\\\\n",
       "\t13 & 1962 & Simula \\\\\n",
       "\t14 & 1962 & SNOBOL \\\\\n",
       "\t15 & 1963 & CPL \\\\\n",
       "\t16 & 1964 & Speakeasy \\\\\n",
       "\t17 & 1964 & BASIC \\\\\n",
       "\t18 & 1964 & PL/I \\\\\n",
       "\t19 & 1966 & JOSS \\\\\n",
       "\t20 & 1967 & BCPL \\\\\n",
       "\t21 & 1968 & Logo \\\\\n",
       "\t22 & 1969 & B \\\\\n",
       "\t23 & 1970 & Pascal \\\\\n",
       "\t24 & 1970 & Forth \\\\\n",
       "\t25 & 1972 & C \\\\\n",
       "\t26 & 1972 & Smalltalk \\\\\n",
       "\t27 & 1972 & Prolog \\\\\n",
       "\t28 & 1973 & ML \\\\\n",
       "\t29 & 1975 & Scheme \\\\\n",
       "\t30 & 1978 & SQL  \\\\\n",
       "\t$\\dots$ & $\\dots$ & $\\dots$ \\\\\n",
       "\\end{tabular}\n"
      ],
      "text/plain": [
       "\u001b[1m73×2 DataFrame\u001b[0m\n",
       "\u001b[1m Row \u001b[0m│\u001b[1m year    \u001b[0m\u001b[1m language                   \u001b[0m\n",
       "\u001b[1m     \u001b[0m│\u001b[90m Any     \u001b[0m\u001b[90m Any                        \u001b[0m\n",
       "─────┼─────────────────────────────────────\n",
       "   1 │\u001b[90m missing \u001b[0m Regional Assembly Language\n",
       "   2 │ 1952     Autocode\n",
       "   3 │ 1954     IPL\n",
       "   4 │ 1955     FLOW-MATIC\n",
       "   5 │ 1957     FORTRAN\n",
       "   6 │ 1957     COMTRAN\n",
       "   7 │ 1958     LISP\n",
       "   8 │ 1958     ALGOL 58\n",
       "   9 │ 1959     FACT\n",
       "  10 │ 1959     COBOL\n",
       "  11 │ 1959     RPG\n",
       "  ⋮  │    ⋮                 ⋮\n",
       "  64 │ 2006     PowerShell\n",
       "  65 │ 2007     Clojure\n",
       "  66 │ 2009     Go\n",
       "  67 │ 2010     Rust\n",
       "  68 │ 2011     Dart\n",
       "  69 │ 2011     Kotlin\n",
       "  70 │ 2011     Red\n",
       "  71 │ 2011     Elixir\n",
       "  72 │ 2012     Julia\n",
       "  73 │ 2014     Swift\n",
       "\u001b[36m                            52 rows omitted\u001b[0m"
      ]
     },
     "execution_count": 91,
     "metadata": {},
     "output_type": "execute_result"
    }
   ],
   "source": [
    "# assume there were missing values in our dataframe\n",
    "P[1,1] = missing\n",
    "P_df = DataFrame(year = P[:,1], language = P[:,2])"
   ]
  },
  {
   "cell_type": "code",
   "execution_count": 92,
   "metadata": {},
   "outputs": [
    {
     "data": {
      "text/html": [
       "<table class=\"data-frame\"><thead><tr><th></th><th>year</th><th>language</th></tr><tr><th></th><th>Any</th><th>Any</th></tr></thead><tbody><p>72 rows × 2 columns</p><tr><th>1</th><td>1952</td><td>Autocode</td></tr><tr><th>2</th><td>1954</td><td>IPL</td></tr><tr><th>3</th><td>1955</td><td>FLOW-MATIC</td></tr><tr><th>4</th><td>1957</td><td>FORTRAN</td></tr><tr><th>5</th><td>1957</td><td>COMTRAN</td></tr><tr><th>6</th><td>1958</td><td>LISP</td></tr><tr><th>7</th><td>1958</td><td>ALGOL 58</td></tr><tr><th>8</th><td>1959</td><td>FACT</td></tr><tr><th>9</th><td>1959</td><td>COBOL</td></tr><tr><th>10</th><td>1959</td><td>RPG</td></tr><tr><th>11</th><td>1962</td><td>APL</td></tr><tr><th>12</th><td>1962</td><td>Simula</td></tr><tr><th>13</th><td>1962</td><td>SNOBOL</td></tr><tr><th>14</th><td>1963</td><td>CPL</td></tr><tr><th>15</th><td>1964</td><td>Speakeasy</td></tr><tr><th>16</th><td>1964</td><td>BASIC</td></tr><tr><th>17</th><td>1964</td><td>PL/I</td></tr><tr><th>18</th><td>1966</td><td>JOSS</td></tr><tr><th>19</th><td>1967</td><td>BCPL</td></tr><tr><th>20</th><td>1968</td><td>Logo</td></tr><tr><th>21</th><td>1969</td><td>B</td></tr><tr><th>22</th><td>1970</td><td>Pascal</td></tr><tr><th>23</th><td>1970</td><td>Forth</td></tr><tr><th>24</th><td>1972</td><td>C</td></tr><tr><th>25</th><td>1972</td><td>Smalltalk</td></tr><tr><th>26</th><td>1972</td><td>Prolog</td></tr><tr><th>27</th><td>1973</td><td>ML</td></tr><tr><th>28</th><td>1975</td><td>Scheme</td></tr><tr><th>29</th><td>1978</td><td>SQL </td></tr><tr><th>30</th><td>1980</td><td>C++ </td></tr><tr><th>&vellip;</th><td>&vellip;</td><td>&vellip;</td></tr></tbody></table>"
      ],
      "text/latex": [
       "\\begin{tabular}{r|cc}\n",
       "\t& year & language\\\\\n",
       "\t\\hline\n",
       "\t& Any & Any\\\\\n",
       "\t\\hline\n",
       "\t1 & 1952 & Autocode \\\\\n",
       "\t2 & 1954 & IPL \\\\\n",
       "\t3 & 1955 & FLOW-MATIC \\\\\n",
       "\t4 & 1957 & FORTRAN \\\\\n",
       "\t5 & 1957 & COMTRAN \\\\\n",
       "\t6 & 1958 & LISP \\\\\n",
       "\t7 & 1958 & ALGOL 58 \\\\\n",
       "\t8 & 1959 & FACT \\\\\n",
       "\t9 & 1959 & COBOL \\\\\n",
       "\t10 & 1959 & RPG \\\\\n",
       "\t11 & 1962 & APL \\\\\n",
       "\t12 & 1962 & Simula \\\\\n",
       "\t13 & 1962 & SNOBOL \\\\\n",
       "\t14 & 1963 & CPL \\\\\n",
       "\t15 & 1964 & Speakeasy \\\\\n",
       "\t16 & 1964 & BASIC \\\\\n",
       "\t17 & 1964 & PL/I \\\\\n",
       "\t18 & 1966 & JOSS \\\\\n",
       "\t19 & 1967 & BCPL \\\\\n",
       "\t20 & 1968 & Logo \\\\\n",
       "\t21 & 1969 & B \\\\\n",
       "\t22 & 1970 & Pascal \\\\\n",
       "\t23 & 1970 & Forth \\\\\n",
       "\t24 & 1972 & C \\\\\n",
       "\t25 & 1972 & Smalltalk \\\\\n",
       "\t26 & 1972 & Prolog \\\\\n",
       "\t27 & 1973 & ML \\\\\n",
       "\t28 & 1975 & Scheme \\\\\n",
       "\t29 & 1978 & SQL  \\\\\n",
       "\t30 & 1980 & C++  \\\\\n",
       "\t$\\dots$ & $\\dots$ & $\\dots$ \\\\\n",
       "\\end{tabular}\n"
      ],
      "text/plain": [
       "\u001b[1m72×2 DataFrame\u001b[0m\n",
       "\u001b[1m Row \u001b[0m│\u001b[1m year \u001b[0m\u001b[1m language   \u001b[0m\n",
       "\u001b[1m     \u001b[0m│\u001b[90m Any  \u001b[0m\u001b[90m Any        \u001b[0m\n",
       "─────┼──────────────────\n",
       "   1 │ 1952  Autocode\n",
       "   2 │ 1954  IPL\n",
       "   3 │ 1955  FLOW-MATIC\n",
       "   4 │ 1957  FORTRAN\n",
       "   5 │ 1957  COMTRAN\n",
       "   6 │ 1958  LISP\n",
       "   7 │ 1958  ALGOL 58\n",
       "   8 │ 1959  FACT\n",
       "   9 │ 1959  COBOL\n",
       "  10 │ 1959  RPG\n",
       "  11 │ 1962  APL\n",
       "  ⋮  │  ⋮        ⋮\n",
       "  63 │ 2006  PowerShell\n",
       "  64 │ 2007  Clojure\n",
       "  65 │ 2009  Go\n",
       "  66 │ 2010  Rust\n",
       "  67 │ 2011  Dart\n",
       "  68 │ 2011  Kotlin\n",
       "  69 │ 2011  Red\n",
       "  70 │ 2011  Elixir\n",
       "  71 │ 2012  Julia\n",
       "  72 │ 2014  Swift\n",
       "\u001b[36m         51 rows omitted\u001b[0m"
      ]
     },
     "execution_count": 92,
     "metadata": {},
     "output_type": "execute_result"
    }
   ],
   "source": [
    "# 결측치 제거에 dropmissing이라는 함수를 사용할 수 있음\n",
    "dropmissing(P_df)\n",
    "\n",
    "# R의 na.omit 과 유사\n",
    "# If na.omit removes cases, the row numbers of the cases form the \"na.action\" attribute of the result, of class \"omit\"."
   ]
  }
 ],
 "metadata": {
  "kernelspec": {
   "display_name": "Julia 1.0.5",
   "language": "julia",
   "name": "julia-1.0"
  },
  "language_info": {
   "file_extension": ".jl",
   "mimetype": "application/julia",
   "name": "julia",
   "version": "1.0.5"
  }
 },
 "nbformat": 4,
 "nbformat_minor": 4
}
